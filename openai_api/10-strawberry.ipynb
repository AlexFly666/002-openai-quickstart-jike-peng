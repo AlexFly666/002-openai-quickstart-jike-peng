{
  "cells": [
    {
      "cell_type": "markdown",
      "metadata": {
        "id": "view-in-github",
        "colab_type": "text"
      },
      "source": [
        "<a href=\"https://colab.research.google.com/github/AlexFly666/002-openai-quickstart-jike-peng/blob/main/openai_api/09-whisper.ipynb\" target=\"_parent\"><img src=\"https://colab.research.google.com/assets/colab-badge.svg\" alt=\"Open In Colab\"/></a>"
      ]
    },
    {
      "cell_type": "markdown",
      "id": "e136a5a2-64bf-48dc-a87b-dbf47ae8f415",
      "metadata": {
        "id": "e136a5a2-64bf-48dc-a87b-dbf47ae8f415"
      },
      "source": [
        "# 快速入门 语音识别模型 Whisper\n",
        "\n",
        "OpenAI 提供了两个基于开源的 Whisper large-v2 模型的语音到文本API服务：\n",
        "- 转录（transcriptions）：将音频转录为音频所使用的任何语言。\n",
        "- 翻译（translations）：将音频翻译并转录为英语\n",
        "\n",
        "\n",
        "目前文件上传限制为 25 MB，支持以下输入文件类型：`mp3、mp4、mpeg、mpga、m4a、wav 和 webm`。\n",
        "\n",
        "\n",
        "## 语音转录 Transcription API\n",
        "\n",
        "输入音频文件，返回转录对象（JSON）\n",
        "\n",
        "参数\n",
        "- **file**（文件）：需要转录的音频文件对象（不是文件名），支持以下格式：flac、mp3、mp4、mpeg、mpga、m4a、ogg、wav 或 webm。\n",
        "- **model**（'whisper-1'）：使用的模型 ID。目前仅可使用由我们的开源 Whisper V2 模型驱动的 whisper-1。\n",
        "- **language**（语言，可选）：输入音频的语言。提供 ISO-639-1 格式的输入语言可以提高准确性和响应速度。\n",
        "- **prompt**（提示，可选）：可选文本，用于指导模型的风格或继续前一个音频片段。提示应与音频语言相匹配。\n",
        "- **response_format**（响应格式，可选）：转录输出的格式，默认为 json。可选的格式有：json、text、srt、verbose_json 或 vtt。\n",
        "- **temperature**（温度，可选）：采样温度，范围从 0 到 1。更高的值，如 0.8，将使输出更随机，而更低的值，如 0.2，将使输出更集中和确定。如果设置为 0，模型将使用对数概率自动提高温度，直到达到某些阈值。\n",
        "- **timestamp_granularities[]**（时间戳粒度，可选）：为此转录填充的时间戳粒度，默认为 segment。响应格式必须设置为 verbose_json 才能使用时间戳粒度。支持以下一个或两个选项：word 或 segment。注意：segment 时间戳不增加额外延迟，但生成 word 时间戳会增加额外延迟。\n",
        "\n",
        "返回值\n",
        "- 转录对象（Transcription Object）或详细转录对象（Verbose Transcription Object）。\n",
        "\n",
        "### 转录对象\n",
        "\n",
        "**Transcription Object**:\n",
        "```json\n",
        "{\n",
        "  \"text\": \"Imagine the wildest idea that you've ever had, and you're curious about how it might scale to something that's a 100, a 1,000 times bigger. This is a place where you can get to do that.\"\n",
        "}\n",
        "```\n",
        "\n",
        "**Verbose Transcription Object**:\n",
        "```json\n",
        "{\n",
        "  \"task\": \"transcribe\",\n",
        "  \"language\": \"english\",\n",
        "  \"duration\": 8.470000267028809,\n",
        "  \"text\": \"The beach was a popular spot on a hot summer day. People were swimming in the ocean, building sandcastles, and playing beach volleyball.\",\n",
        "  \"segments\": [\n",
        "    {\n",
        "      \"id\": 0,\n",
        "      \"seek\": 0,\n",
        "      \"start\": 0.0,\n",
        "      \"end\": 3.319999933242798,\n",
        "      \"text\": \" The beach was a popular spot on a hot summer day.\",\n",
        "      \"tokens\": [\n",
        "        50364, 440, 7534, 390, 257, 3743, 4008, 322, 257, 2368, 4266, 786, 13, 50530\n",
        "      ],\n",
        "      \"temperature\": 0.0,\n",
        "      \"avg_logprob\": -0.2860786020755768,\n",
        "      \"compression_ratio\": 1.2363636493682861,\n",
        "      \"no_speech_prob\": 0.00985979475080967\n",
        "    },\n",
        "    ...\n",
        "  ]\n",
        "}\n",
        "\n",
        "```"
      ]
    },
    {
      "cell_type": "markdown",
      "id": "3150141f-f246-44e1-b6fe-43387d953783",
      "metadata": {
        "id": "3150141f-f246-44e1-b6fe-43387d953783"
      },
      "source": [
        "### 使用 Whisper 实现中文转录\n",
        "\n",
        "将 TTS 配音的李云龙台词音频文件(liyunlong.mp3)发送给 Whisper 模型进行中文转录"
      ]
    },
    {
      "cell_type": "code",
      "source": [
        "from openai import OpenAI\n",
        "# client = OpenAI()\n",
        "# OpenAI Python SDK v1.0 更新后的使用方式\n",
        "# 使用代理方式，需要修改base_url\n",
        "client = OpenAI(\n",
        "    api_key=\"XXX\", # 你的KEY\n",
        "    base_url=\"https://vip.apiyi.com/v1\"\n",
        ")\n",
        "speech_file_path = \"./audio/liyunlong.mp3\"\n",
        "\n",
        "# 官方示例的用法会触发 Deprecated 警告⚠️，已替换为最佳实践\n",
        "with client.audio.speech.with_streaming_response.create(\n",
        "    model=\"tts-1\",\n",
        "    voice=\"echo\",\n",
        "    input=\"二营长！你他娘的意大利炮呢？给我拉来！\"\n",
        ") as response:\n",
        "    response.stream_to_file(speech_file_path)"
      ],
      "metadata": {
        "id": "qbBkAsThn8--"
      },
      "id": "qbBkAsThn8--",
      "execution_count": 5,
      "outputs": []
    },
    {
      "cell_type": "code",
      "execution_count": 6,
      "id": "84fcd642-213d-45b2-86c1-042657f5baa4",
      "metadata": {
        "id": "84fcd642-213d-45b2-86c1-042657f5baa4",
        "outputId": "3e911c19-b4e3-4286-977c-eac4839354dd",
        "colab": {
          "base_uri": "https://localhost:8080/"
        }
      },
      "outputs": [
        {
          "output_type": "stream",
          "name": "stdout",
          "text": [
            "二营长,你太娘的义大利泡呢?给我拉来!\n"
          ]
        }
      ],
      "source": [
        "from openai import OpenAI\n",
        "# client = OpenAI()\n",
        "# OpenAI Python SDK v1.0 更新后的使用方式\n",
        "# 使用代理方式，需要修改base_url\n",
        "client = OpenAI(\n",
        "    api_key=\"XXX\", # 你的KEY\n",
        "    base_url=\"https://vip.apiyi.com/v1\"\n",
        ")\n",
        "# !mkdir -p ./audio\n",
        "# !wget https://raw.githubusercontent.com/AlexFly666/002-openai-quickstart-jike-peng/main/openai_api/audio/liyunlong.mp3 -O ./audio/liyunlong.mp3\n",
        "audio_file= open(\"./audio/liyunlong.mp3\", \"rb\")\n",
        "\n",
        "transcription = client.audio.transcriptions.create(\n",
        "  model=\"whisper-1\",\n",
        "  file=audio_file\n",
        ")\n",
        "\n",
        "print(transcription.text)"
      ]
    },
    {
      "cell_type": "code",
      "source": [
        "# 错误信息 BadRequestError: Error code: 400 - {'error': {'message': \"Invalid file format. Supported formats: ['flac', 'm4a', 'mp3', 'mp4', 'mpeg', 'mpga', 'oga', 'ogg', 'wav', 'webm'] (request id: 20250105211719248041153V9Em1JLA)\", 'localized_message': '', 'type': 'invalid_request_error', 'param': '', 'code': None}} 明确表明您尝试转录的音频文件的格式不受 OpenAI API 支持。\n",
        "\n",
        "# 尽管您打开的文件 liyunlong.mp3 看似具有 .mp3 扩展名，但实际文件内容可能不是有效的 MP3 文件。这可能是由于：\n",
        "\n",
        "# 文件损坏： 文件可能在下载或存储过程中已损坏。\n",
        "# 文件扩展名不正确： 文件可能被错误地赋予了 .mp3 扩展名，而实际上它是另一种格式。\n",
        "# 文件编码问题： 文件可能存在编码问题，导致 API 无法将其识别为有效的 MP3 文件。\n",
        "# 建议的更改\n",
        "# 要诊断和解决问题，您可以尝试以下操作：\n",
        "\n",
        "# 验证文件格式： 在 Linux 上使用 file 等工具检查实际文件类型。\n",
        "\n",
        "# !file ./audio/liyunlong.mp3\n",
        "\n",
        "!mkdir -p ./audio\n",
        "# -o 用于指定日志输出文件。\n",
        "# -O 用于指定下载文件的输出路径和文件名。\n",
        "!wget https://raw.githubusercontent.com/AlexFly666/002-openai-quickstart-jike-peng/main/openai_api/audio/liyunlong.mp3 -O ./audio/liyunlong.mp3\n",
        "!file ./audio/liyunlong.mp3"
      ],
      "metadata": {
        "id": "LrEjcKGUoRli",
        "outputId": "abfb1a2b-c227-4412-8fb3-4aeb3dd76ac7",
        "colab": {
          "base_uri": "https://localhost:8080/"
        }
      },
      "id": "LrEjcKGUoRli",
      "execution_count": 8,
      "outputs": [
        {
          "output_type": "stream",
          "name": "stdout",
          "text": [
            "--2025-01-05 13:26:08--  https://raw.githubusercontent.com/AlexFly666/002-openai-quickstart-jike-peng/main/openai_api/audio/liyunlong.mp3\n",
            "Resolving raw.githubusercontent.com (raw.githubusercontent.com)... 185.199.108.133, 185.199.109.133, 185.199.110.133, ...\n",
            "Connecting to raw.githubusercontent.com (raw.githubusercontent.com)|185.199.108.133|:443... connected.\n",
            "HTTP request sent, awaiting response... 200 OK\n",
            "Length: 77280 (75K) [audio/mpeg]\n",
            "Saving to: ‘./audio/liyunlong.mp3’\n",
            "\n",
            "\r./audio/liyunlong.m   0%[                    ]       0  --.-KB/s               \r./audio/liyunlong.m 100%[===================>]  75.47K  --.-KB/s    in 0.003s  \n",
            "\n",
            "2025-01-05 13:26:08 (21.8 MB/s) - ‘./audio/liyunlong.mp3’ saved [77280/77280]\n",
            "\n",
            "./audio/liyunlong.mp3: MPEG ADTS, layer III, v2, 160 kbps, 24 kHz, Monaural\n"
          ]
        }
      ]
    },
    {
      "cell_type": "markdown",
      "id": "94fa82fb-b9f4-478e-af4e-97744326ba22",
      "metadata": {
        "id": "94fa82fb-b9f4-478e-af4e-97744326ba22"
      },
      "source": [
        "## 语音翻译 API\n",
        "\n",
        "输入音频文件，返回翻译文本\n",
        "\n",
        "请求体\n",
        "- **file**（文件）：需要翻译的音频文件对象（不是文件名），支持以下格式：flac、mp3、mp4、mpeg、mpga、m4a、ogg、wav 或 webm。\n",
        "- **model**（'whisper-1'）：使用的模型 ID。目前只有由我们的开源 Whisper V2 模型驱动的 whisper-1 可用。\n",
        "- **prompt**（提示，可选）：可选文本，用于指导模型的风格或继续前一个音频片段。提示应为英文。\n",
        "- **response_format**（响应格式，可选）：转录输出的格式，默认为 json。可选的格式包括：json、text、srt、verbose_json 或 vtt。\n",
        "- **temperature**（温度，可选）：采样温度，范围从 0 到 1。较高的值，如 0.8，将使输出更随机，而较低的值，如 0.2，将使输出更集中和确定。如果设置为 0，模型将使用对数概率自动增加温度，直到达到特定阈值。\n",
        "\n",
        "返回值\n",
        "- **translated_text**: 翻译后的文本。"
      ]
    },
    {
      "cell_type": "markdown",
      "id": "c0cd53e0-c069-4a6c-964d-c2d348781433",
      "metadata": {
        "id": "c0cd53e0-c069-4a6c-964d-c2d348781433"
      },
      "source": [
        "### 使用 Whisper 实现中文识别+翻译\n",
        "\n",
        "将 TTS 配音的李云龙台词音频文件(liyunlong.mp3)发送给 Whisper 模型进行翻译"
      ]
    },
    {
      "cell_type": "code",
      "execution_count": null,
      "id": "cf456da9-56b8-4795-bf26-2379e1772c20",
      "metadata": {
        "id": "cf456da9-56b8-4795-bf26-2379e1772c20",
        "outputId": "00a51757-8ffc-4cc4-8db3-7d2cd4f8f7d8"
      },
      "outputs": [
        {
          "name": "stdout",
          "output_type": "stream",
          "text": [
            "Second Battalion Commander, where is your Italian gun? Bring it to me.\n"
          ]
        }
      ],
      "source": [
        "audio_file= open(\"./audio/liyunlong.mp3\", \"rb\")\n",
        "\n",
        "translation = client.audio.translations.create(\n",
        "    model=\"whisper-1\",\n",
        "    file=audio_file,\n",
        "    prompt=\"Translate into English\",\n",
        ")\n",
        "\n",
        "print(translation.text)"
      ]
    },
    {
      "cell_type": "markdown",
      "id": "4c25de24-8cdb-4335-9028-fa7eb35dd6be",
      "metadata": {
        "id": "4c25de24-8cdb-4335-9028-fa7eb35dd6be"
      },
      "source": [
        "### 使用 TTS 给李云龙英文版台词配音"
      ]
    },
    {
      "cell_type": "code",
      "execution_count": null,
      "id": "055a0016-9b49-4105-b64d-4ae3c4a543ed",
      "metadata": {
        "id": "055a0016-9b49-4105-b64d-4ae3c4a543ed"
      },
      "outputs": [],
      "source": [
        "speech_file_path = \"./audio/liyunlong_en.mp3\"\n",
        "\n",
        "with client.audio.speech.with_streaming_response.create(\n",
        "    model=\"tts-1\",\n",
        "    voice=\"onyx\",\n",
        "    input=translation.text\n",
        ") as response:\n",
        "    response.stream_to_file(speech_file_path)"
      ]
    },
    {
      "cell_type": "markdown",
      "id": "004b6daa-6df7-42f3-93dd-ef4ce8d04ca9",
      "metadata": {
        "id": "004b6daa-6df7-42f3-93dd-ef4ce8d04ca9"
      },
      "source": [
        "### 使用 Whipser + TTS 生成郭德纲相声英文版"
      ]
    },
    {
      "cell_type": "code",
      "execution_count": null,
      "id": "32bd206c-419f-4350-9eac-360b05c3a529",
      "metadata": {
        "id": "32bd206c-419f-4350-9eac-360b05c3a529",
        "outputId": "0ba2a6b5-52de-414d-dc92-09c3a2072005"
      },
      "outputs": [
        {
          "name": "stdout",
          "output_type": "stream",
          "text": [
            "There are a lot of people here. Thank you for coming. Today is the Xiangsheng Conference. Today, He Yunwei and I, the two of us, have a special feature. We don't have much ability, but we give a lot. There are not many opportunities to cooperate with Mr. Xing. Give a little. This is also an old senior in our Xiangsheng world. Mr. Xing Wenzhao has been in the Xiangsheng circle for more than 50 years. That's right. We are going to hold a commemorative exhibition this year. Mr. Xing Wenzhao's third anniversary. 53rd anniversary. That's the 40th anniversary. Oh my god.\n"
          ]
        }
      ],
      "source": [
        "gdg_audio_file = open(\"./audio/gdg.mp3\", \"rb\")\n",
        "gdg_speech_file = \"./audio/gdg_en.mp3\"\n",
        "\n",
        "translation = client.audio.translations.create(\n",
        "  model=\"whisper-1\",\n",
        "  file=gdg_audio_file\n",
        ")\n",
        "\n",
        "print(translation.text)\n",
        "\n",
        "with client.audio.speech.with_streaming_response.create(\n",
        "    model=\"tts-1\",\n",
        "    voice=\"onyx\",\n",
        "    input=translation.text\n",
        ") as response:\n",
        "    response.stream_to_file(gdg_speech_file)"
      ]
    },
    {
      "cell_type": "code",
      "execution_count": null,
      "id": "ae579e8e-a197-426c-86f7-5ba0d1659ea0",
      "metadata": {
        "id": "ae579e8e-a197-426c-86f7-5ba0d1659ea0"
      },
      "outputs": [],
      "source": []
    }
  ],
  "metadata": {
    "kernelspec": {
      "display_name": "Python 3 (ipykernel)",
      "language": "python",
      "name": "python3"
    },
    "language_info": {
      "codemirror_mode": {
        "name": "ipython",
        "version": 3
      },
      "file_extension": ".py",
      "mimetype": "text/x-python",
      "name": "python",
      "nbconvert_exporter": "python",
      "pygments_lexer": "ipython3",
      "version": "3.10.14"
    },
    "colab": {
      "provenance": [],
      "include_colab_link": true
    }
  },
  "nbformat": 4,
  "nbformat_minor": 5
}