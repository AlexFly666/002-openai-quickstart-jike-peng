{
  "cells": [
    {
      "cell_type": "markdown",
      "metadata": {
        "id": "view-in-github",
        "colab_type": "text"
      },
      "source": [
        "<a href=\"https://colab.research.google.com/github/AlexFly666/002-openai-quickstart-jike-peng/blob/main/openai_api/01-embedding.ipynb\" target=\"_parent\"><img src=\"https://colab.research.google.com/assets/colab-badge.svg\" alt=\"Open In Colab\"/></a>"
      ]
    },
    {
      "cell_type": "markdown",
      "metadata": {
        "id": "0V9RCdPfaR3H"
      },
      "source": [
        "## 准备工作\n",
        "\n",
        "1.确保您按照[README](README-CN.md)中的说明在环境中设置了API密钥\n",
        "\n",
        "2.安装依赖包"
      ]
    },
    {
      "cell_type": "code",
      "execution_count": 28,
      "metadata": {
        "scrolled": true,
        "id": "KZ_Tul8LaR3J",
        "outputId": "3d995172-c7a4-4031-8f32-3bae9a443cdb",
        "colab": {
          "base_uri": "https://localhost:8080/"
        }
      },
      "outputs": [
        {
          "output_type": "stream",
          "name": "stdout",
          "text": [
            "Requirement already satisfied: tiktoken in /usr/local/lib/python3.10/dist-packages (0.7.0)\n",
            "Requirement already satisfied: openai in /usr/local/lib/python3.10/dist-packages (1.30.1)\n",
            "Requirement already satisfied: pandas in /usr/local/lib/python3.10/dist-packages (2.2.1)\n",
            "Requirement already satisfied: matplotlib in /usr/local/lib/python3.10/dist-packages (3.8.3)\n",
            "Requirement already satisfied: plotly in /usr/local/lib/python3.10/dist-packages (5.20.0)\n",
            "Requirement already satisfied: scikit-learn in /usr/local/lib/python3.10/dist-packages (1.5.0)\n",
            "Requirement already satisfied: numpy in /usr/local/lib/python3.10/dist-packages (1.26.4)\n",
            "Requirement already satisfied: regex>=2022.1.18 in /usr/local/lib/python3.10/dist-packages (from tiktoken) (2024.11.6)\n",
            "Requirement already satisfied: requests>=2.26.0 in /usr/local/lib/python3.10/dist-packages (from tiktoken) (2.32.3)\n",
            "Requirement already satisfied: anyio<5,>=3.5.0 in /usr/local/lib/python3.10/dist-packages (from openai) (3.7.1)\n",
            "Requirement already satisfied: distro<2,>=1.7.0 in /usr/local/lib/python3.10/dist-packages (from openai) (1.9.0)\n",
            "Requirement already satisfied: httpx<1,>=0.23.0 in /usr/local/lib/python3.10/dist-packages (from openai) (0.28.1)\n",
            "Requirement already satisfied: pydantic<3,>=1.9.0 in /usr/local/lib/python3.10/dist-packages (from openai) (2.10.3)\n",
            "Requirement already satisfied: sniffio in /usr/local/lib/python3.10/dist-packages (from openai) (1.3.1)\n",
            "Requirement already satisfied: tqdm>4 in /usr/local/lib/python3.10/dist-packages (from openai) (4.67.1)\n",
            "Requirement already satisfied: typing-extensions<5,>=4.7 in /usr/local/lib/python3.10/dist-packages (from openai) (4.12.2)\n",
            "Requirement already satisfied: python-dateutil>=2.8.2 in /usr/local/lib/python3.10/dist-packages (from pandas) (2.8.2)\n",
            "Requirement already satisfied: pytz>=2020.1 in /usr/local/lib/python3.10/dist-packages (from pandas) (2024.2)\n",
            "Requirement already satisfied: tzdata>=2022.7 in /usr/local/lib/python3.10/dist-packages (from pandas) (2024.2)\n",
            "Requirement already satisfied: contourpy>=1.0.1 in /usr/local/lib/python3.10/dist-packages (from matplotlib) (1.3.1)\n",
            "Requirement already satisfied: cycler>=0.10 in /usr/local/lib/python3.10/dist-packages (from matplotlib) (0.12.1)\n",
            "Requirement already satisfied: fonttools>=4.22.0 in /usr/local/lib/python3.10/dist-packages (from matplotlib) (4.55.3)\n",
            "Requirement already satisfied: kiwisolver>=1.3.1 in /usr/local/lib/python3.10/dist-packages (from matplotlib) (1.4.7)\n",
            "Requirement already satisfied: packaging>=20.0 in /usr/local/lib/python3.10/dist-packages (from matplotlib) (24.2)\n",
            "Requirement already satisfied: pillow>=8 in /usr/local/lib/python3.10/dist-packages (from matplotlib) (11.0.0)\n",
            "Requirement already satisfied: pyparsing>=2.3.1 in /usr/local/lib/python3.10/dist-packages (from matplotlib) (3.2.0)\n",
            "Requirement already satisfied: tenacity>=6.2.0 in /usr/local/lib/python3.10/dist-packages (from plotly) (9.0.0)\n",
            "Requirement already satisfied: scipy>=1.6.0 in /usr/local/lib/python3.10/dist-packages (from scikit-learn) (1.13.1)\n",
            "Requirement already satisfied: joblib>=1.2.0 in /usr/local/lib/python3.10/dist-packages (from scikit-learn) (1.4.2)\n",
            "Requirement already satisfied: threadpoolctl>=3.1.0 in /usr/local/lib/python3.10/dist-packages (from scikit-learn) (3.5.0)\n",
            "Requirement already satisfied: idna>=2.8 in /usr/local/lib/python3.10/dist-packages (from anyio<5,>=3.5.0->openai) (3.10)\n",
            "Requirement already satisfied: exceptiongroup in /usr/local/lib/python3.10/dist-packages (from anyio<5,>=3.5.0->openai) (1.2.2)\n",
            "Requirement already satisfied: certifi in /usr/local/lib/python3.10/dist-packages (from httpx<1,>=0.23.0->openai) (2024.12.14)\n",
            "Requirement already satisfied: httpcore==1.* in /usr/local/lib/python3.10/dist-packages (from httpx<1,>=0.23.0->openai) (1.0.7)\n",
            "Requirement already satisfied: h11<0.15,>=0.13 in /usr/local/lib/python3.10/dist-packages (from httpcore==1.*->httpx<1,>=0.23.0->openai) (0.14.0)\n",
            "Requirement already satisfied: annotated-types>=0.6.0 in /usr/local/lib/python3.10/dist-packages (from pydantic<3,>=1.9.0->openai) (0.7.0)\n",
            "Requirement already satisfied: pydantic-core==2.27.1 in /usr/local/lib/python3.10/dist-packages (from pydantic<3,>=1.9.0->openai) (2.27.1)\n",
            "Requirement already satisfied: six>=1.5 in /usr/local/lib/python3.10/dist-packages (from python-dateutil>=2.8.2->pandas) (1.17.0)\n",
            "Requirement already satisfied: charset-normalizer<4,>=2 in /usr/local/lib/python3.10/dist-packages (from requests>=2.26.0->tiktoken) (3.4.0)\n",
            "Requirement already satisfied: urllib3<3,>=1.21.1 in /usr/local/lib/python3.10/dist-packages (from requests>=2.26.0->tiktoken) (2.2.3)\n"
          ]
        }
      ],
      "source": [
        "# !pip install tiktoken==0.7.0\\\n",
        "# openai==1.30.1\\\n",
        "# pandas==2.2.1\\\n",
        "# matplotlib==3.8.3\\\n",
        "# plotly==5.20.0\\\n",
        "# numpy==1.26.4\\\n",
        "# scikit-learn==1.5.0\n",
        "\n",
        "!pip install tiktoken openai pandas matplotlib plotly scikit-learn numpy"
      ]
    },
    {
      "cell_type": "code",
      "execution_count": 28,
      "metadata": {
        "id": "QeqJBZGJaR3L"
      },
      "outputs": [],
      "source": []
    },
    {
      "cell_type": "markdown",
      "metadata": {
        "id": "fiiryRH1aR3M"
      },
      "source": [
        "## 1. 生成 Embedding (基于 text-embedding-ada-002 模型)"
      ]
    },
    {
      "cell_type": "markdown",
      "metadata": {
        "id": "5i3Ol3bdaR3M"
      },
      "source": [
        "嵌入对于处理自然语言和代码非常有用，因为其他机器学习模型和算法（如聚类或搜索）可以轻松地使用和比较它们。"
      ]
    },
    {
      "cell_type": "markdown",
      "metadata": {
        "id": "3uXvf8qwaR3N"
      },
      "source": [
        "![Embedding](https://github.com/AlexFly666/002-openai-quickstart-jike-peng/blob/main/openai_api/images/embedding-vectors.svg?raw=1)"
      ]
    },
    {
      "cell_type": "markdown",
      "metadata": {
        "id": "zU7jXrw5aR3N"
      },
      "source": [
        "### 亚马逊美食评论数据集(amazon-fine-food-reviews)\n",
        "\n",
        "Source:[美食评论数据集](https://www.kaggle.com/snap/amazon-fine-food-reviews)"
      ]
    },
    {
      "cell_type": "markdown",
      "metadata": {
        "id": "86ebh7WwaR3N"
      },
      "source": [
        "![dataset](https://github.com/AlexFly666/002-openai-quickstart-jike-peng/blob/main/openai_api/images/amazon-fine-food-reviews.png?raw=1)\n",
        "\n",
        "\n",
        "该数据集包含截至2012年10月用户在亚马逊上留下的共计568,454条美食评论。为了说明目的，我们将使用该数据集的一个子集，其中包括最近1,000条评论。这些评论都是用英语撰写的，并且倾向于积极或消极。每个评论都有一个产品ID、用户ID、评分、标题（摘要）和正文。\n",
        "\n",
        "我们将把评论摘要和正文合并成一个单一的组合文本。模型将对这个组合文本进行编码，并输出一个单一的向量嵌入。"
      ]
    },
    {
      "cell_type": "code",
      "execution_count": 29,
      "metadata": {
        "id": "CYKdOUe3aR3O"
      },
      "outputs": [],
      "source": [
        "# 导入 pandas 包。Pandas 是一个用于数据处理和分析的 Python 库\n",
        "# 提供了 DataFrame 数据结构，方便进行数据的读取、处理、分析等操作。\n",
        "import pandas as pd\n",
        "# 导入 tiktoken 库。Tiktoken 是 OpenAI 开发的一个库，用于从模型生成的文本中计算 token 数量。\n",
        "import tiktoken"
      ]
    },
    {
      "cell_type": "code",
      "execution_count": 29,
      "metadata": {
        "id": "_9rtHCAMaR3O"
      },
      "outputs": [],
      "source": []
    },
    {
      "cell_type": "markdown",
      "metadata": {
        "id": "7iGrb0zXaR3O"
      },
      "source": [
        "#### 加载数据集"
      ]
    },
    {
      "cell_type": "code",
      "execution_count": 30,
      "metadata": {
        "id": "gbR0Fu8RaR3P",
        "outputId": "2b8d4e3d-f152-4303-99d5-f5df92a48795",
        "colab": {
          "base_uri": "https://localhost:8080/",
          "height": 146
        }
      },
      "outputs": [
        {
          "output_type": "execute_result",
          "data": {
            "text/plain": [
              "         Time   ProductId          UserId  Score  \\\n",
              "0  1351123200  B003XPF9BO  A3R7JR3FMEBXQB      5   \n",
              "1  1351123200  B003JK537S  A3JBPC3WFUT5ZP      1   \n",
              "\n",
              "                                             Summary  \\\n",
              "0  where does one  start...and stop... with a tre...   \n",
              "1                                  Arrived in pieces   \n",
              "\n",
              "                                                Text  \\\n",
              "0  Wanted to save some to bring to my Chicago fam...   \n",
              "1  Not pleased at all. When I opened the box, mos...   \n",
              "\n",
              "                                            combined  \n",
              "0  Title: where does one  start...and stop... wit...  \n",
              "1  Title: Arrived in pieces; Content: Not pleased...  "
            ],
            "text/html": [
              "\n",
              "  <div id=\"df-91f28010-fc25-4541-b846-ead845f44fd8\" class=\"colab-df-container\">\n",
              "    <div>\n",
              "<style scoped>\n",
              "    .dataframe tbody tr th:only-of-type {\n",
              "        vertical-align: middle;\n",
              "    }\n",
              "\n",
              "    .dataframe tbody tr th {\n",
              "        vertical-align: top;\n",
              "    }\n",
              "\n",
              "    .dataframe thead th {\n",
              "        text-align: right;\n",
              "    }\n",
              "</style>\n",
              "<table border=\"1\" class=\"dataframe\">\n",
              "  <thead>\n",
              "    <tr style=\"text-align: right;\">\n",
              "      <th></th>\n",
              "      <th>Time</th>\n",
              "      <th>ProductId</th>\n",
              "      <th>UserId</th>\n",
              "      <th>Score</th>\n",
              "      <th>Summary</th>\n",
              "      <th>Text</th>\n",
              "      <th>combined</th>\n",
              "    </tr>\n",
              "  </thead>\n",
              "  <tbody>\n",
              "    <tr>\n",
              "      <th>0</th>\n",
              "      <td>1351123200</td>\n",
              "      <td>B003XPF9BO</td>\n",
              "      <td>A3R7JR3FMEBXQB</td>\n",
              "      <td>5</td>\n",
              "      <td>where does one  start...and stop... with a tre...</td>\n",
              "      <td>Wanted to save some to bring to my Chicago fam...</td>\n",
              "      <td>Title: where does one  start...and stop... wit...</td>\n",
              "    </tr>\n",
              "    <tr>\n",
              "      <th>1</th>\n",
              "      <td>1351123200</td>\n",
              "      <td>B003JK537S</td>\n",
              "      <td>A3JBPC3WFUT5ZP</td>\n",
              "      <td>1</td>\n",
              "      <td>Arrived in pieces</td>\n",
              "      <td>Not pleased at all. When I opened the box, mos...</td>\n",
              "      <td>Title: Arrived in pieces; Content: Not pleased...</td>\n",
              "    </tr>\n",
              "  </tbody>\n",
              "</table>\n",
              "</div>\n",
              "    <div class=\"colab-df-buttons\">\n",
              "\n",
              "  <div class=\"colab-df-container\">\n",
              "    <button class=\"colab-df-convert\" onclick=\"convertToInteractive('df-91f28010-fc25-4541-b846-ead845f44fd8')\"\n",
              "            title=\"Convert this dataframe to an interactive table.\"\n",
              "            style=\"display:none;\">\n",
              "\n",
              "  <svg xmlns=\"http://www.w3.org/2000/svg\" height=\"24px\" viewBox=\"0 -960 960 960\">\n",
              "    <path d=\"M120-120v-720h720v720H120Zm60-500h600v-160H180v160Zm220 220h160v-160H400v160Zm0 220h160v-160H400v160ZM180-400h160v-160H180v160Zm440 0h160v-160H620v160ZM180-180h160v-160H180v160Zm440 0h160v-160H620v160Z\"/>\n",
              "  </svg>\n",
              "    </button>\n",
              "\n",
              "  <style>\n",
              "    .colab-df-container {\n",
              "      display:flex;\n",
              "      gap: 12px;\n",
              "    }\n",
              "\n",
              "    .colab-df-convert {\n",
              "      background-color: #E8F0FE;\n",
              "      border: none;\n",
              "      border-radius: 50%;\n",
              "      cursor: pointer;\n",
              "      display: none;\n",
              "      fill: #1967D2;\n",
              "      height: 32px;\n",
              "      padding: 0 0 0 0;\n",
              "      width: 32px;\n",
              "    }\n",
              "\n",
              "    .colab-df-convert:hover {\n",
              "      background-color: #E2EBFA;\n",
              "      box-shadow: 0px 1px 2px rgba(60, 64, 67, 0.3), 0px 1px 3px 1px rgba(60, 64, 67, 0.15);\n",
              "      fill: #174EA6;\n",
              "    }\n",
              "\n",
              "    .colab-df-buttons div {\n",
              "      margin-bottom: 4px;\n",
              "    }\n",
              "\n",
              "    [theme=dark] .colab-df-convert {\n",
              "      background-color: #3B4455;\n",
              "      fill: #D2E3FC;\n",
              "    }\n",
              "\n",
              "    [theme=dark] .colab-df-convert:hover {\n",
              "      background-color: #434B5C;\n",
              "      box-shadow: 0px 1px 3px 1px rgba(0, 0, 0, 0.15);\n",
              "      filter: drop-shadow(0px 1px 2px rgba(0, 0, 0, 0.3));\n",
              "      fill: #FFFFFF;\n",
              "    }\n",
              "  </style>\n",
              "\n",
              "    <script>\n",
              "      const buttonEl =\n",
              "        document.querySelector('#df-91f28010-fc25-4541-b846-ead845f44fd8 button.colab-df-convert');\n",
              "      buttonEl.style.display =\n",
              "        google.colab.kernel.accessAllowed ? 'block' : 'none';\n",
              "\n",
              "      async function convertToInteractive(key) {\n",
              "        const element = document.querySelector('#df-91f28010-fc25-4541-b846-ead845f44fd8');\n",
              "        const dataTable =\n",
              "          await google.colab.kernel.invokeFunction('convertToInteractive',\n",
              "                                                    [key], {});\n",
              "        if (!dataTable) return;\n",
              "\n",
              "        const docLinkHtml = 'Like what you see? Visit the ' +\n",
              "          '<a target=\"_blank\" href=https://colab.research.google.com/notebooks/data_table.ipynb>data table notebook</a>'\n",
              "          + ' to learn more about interactive tables.';\n",
              "        element.innerHTML = '';\n",
              "        dataTable['output_type'] = 'display_data';\n",
              "        await google.colab.output.renderOutput(dataTable, element);\n",
              "        const docLink = document.createElement('div');\n",
              "        docLink.innerHTML = docLinkHtml;\n",
              "        element.appendChild(docLink);\n",
              "      }\n",
              "    </script>\n",
              "  </div>\n",
              "\n",
              "\n",
              "<div id=\"df-9b45c46f-8029-437e-9d30-1ccf18bbd9c4\">\n",
              "  <button class=\"colab-df-quickchart\" onclick=\"quickchart('df-9b45c46f-8029-437e-9d30-1ccf18bbd9c4')\"\n",
              "            title=\"Suggest charts\"\n",
              "            style=\"display:none;\">\n",
              "\n",
              "<svg xmlns=\"http://www.w3.org/2000/svg\" height=\"24px\"viewBox=\"0 0 24 24\"\n",
              "     width=\"24px\">\n",
              "    <g>\n",
              "        <path d=\"M19 3H5c-1.1 0-2 .9-2 2v14c0 1.1.9 2 2 2h14c1.1 0 2-.9 2-2V5c0-1.1-.9-2-2-2zM9 17H7v-7h2v7zm4 0h-2V7h2v10zm4 0h-2v-4h2v4z\"/>\n",
              "    </g>\n",
              "</svg>\n",
              "  </button>\n",
              "\n",
              "<style>\n",
              "  .colab-df-quickchart {\n",
              "      --bg-color: #E8F0FE;\n",
              "      --fill-color: #1967D2;\n",
              "      --hover-bg-color: #E2EBFA;\n",
              "      --hover-fill-color: #174EA6;\n",
              "      --disabled-fill-color: #AAA;\n",
              "      --disabled-bg-color: #DDD;\n",
              "  }\n",
              "\n",
              "  [theme=dark] .colab-df-quickchart {\n",
              "      --bg-color: #3B4455;\n",
              "      --fill-color: #D2E3FC;\n",
              "      --hover-bg-color: #434B5C;\n",
              "      --hover-fill-color: #FFFFFF;\n",
              "      --disabled-bg-color: #3B4455;\n",
              "      --disabled-fill-color: #666;\n",
              "  }\n",
              "\n",
              "  .colab-df-quickchart {\n",
              "    background-color: var(--bg-color);\n",
              "    border: none;\n",
              "    border-radius: 50%;\n",
              "    cursor: pointer;\n",
              "    display: none;\n",
              "    fill: var(--fill-color);\n",
              "    height: 32px;\n",
              "    padding: 0;\n",
              "    width: 32px;\n",
              "  }\n",
              "\n",
              "  .colab-df-quickchart:hover {\n",
              "    background-color: var(--hover-bg-color);\n",
              "    box-shadow: 0 1px 2px rgba(60, 64, 67, 0.3), 0 1px 3px 1px rgba(60, 64, 67, 0.15);\n",
              "    fill: var(--button-hover-fill-color);\n",
              "  }\n",
              "\n",
              "  .colab-df-quickchart-complete:disabled,\n",
              "  .colab-df-quickchart-complete:disabled:hover {\n",
              "    background-color: var(--disabled-bg-color);\n",
              "    fill: var(--disabled-fill-color);\n",
              "    box-shadow: none;\n",
              "  }\n",
              "\n",
              "  .colab-df-spinner {\n",
              "    border: 2px solid var(--fill-color);\n",
              "    border-color: transparent;\n",
              "    border-bottom-color: var(--fill-color);\n",
              "    animation:\n",
              "      spin 1s steps(1) infinite;\n",
              "  }\n",
              "\n",
              "  @keyframes spin {\n",
              "    0% {\n",
              "      border-color: transparent;\n",
              "      border-bottom-color: var(--fill-color);\n",
              "      border-left-color: var(--fill-color);\n",
              "    }\n",
              "    20% {\n",
              "      border-color: transparent;\n",
              "      border-left-color: var(--fill-color);\n",
              "      border-top-color: var(--fill-color);\n",
              "    }\n",
              "    30% {\n",
              "      border-color: transparent;\n",
              "      border-left-color: var(--fill-color);\n",
              "      border-top-color: var(--fill-color);\n",
              "      border-right-color: var(--fill-color);\n",
              "    }\n",
              "    40% {\n",
              "      border-color: transparent;\n",
              "      border-right-color: var(--fill-color);\n",
              "      border-top-color: var(--fill-color);\n",
              "    }\n",
              "    60% {\n",
              "      border-color: transparent;\n",
              "      border-right-color: var(--fill-color);\n",
              "    }\n",
              "    80% {\n",
              "      border-color: transparent;\n",
              "      border-right-color: var(--fill-color);\n",
              "      border-bottom-color: var(--fill-color);\n",
              "    }\n",
              "    90% {\n",
              "      border-color: transparent;\n",
              "      border-bottom-color: var(--fill-color);\n",
              "    }\n",
              "  }\n",
              "</style>\n",
              "\n",
              "  <script>\n",
              "    async function quickchart(key) {\n",
              "      const quickchartButtonEl =\n",
              "        document.querySelector('#' + key + ' button');\n",
              "      quickchartButtonEl.disabled = true;  // To prevent multiple clicks.\n",
              "      quickchartButtonEl.classList.add('colab-df-spinner');\n",
              "      try {\n",
              "        const charts = await google.colab.kernel.invokeFunction(\n",
              "            'suggestCharts', [key], {});\n",
              "      } catch (error) {\n",
              "        console.error('Error during call to suggestCharts:', error);\n",
              "      }\n",
              "      quickchartButtonEl.classList.remove('colab-df-spinner');\n",
              "      quickchartButtonEl.classList.add('colab-df-quickchart-complete');\n",
              "    }\n",
              "    (() => {\n",
              "      let quickchartButtonEl =\n",
              "        document.querySelector('#df-9b45c46f-8029-437e-9d30-1ccf18bbd9c4 button');\n",
              "      quickchartButtonEl.style.display =\n",
              "        google.colab.kernel.accessAllowed ? 'block' : 'none';\n",
              "    })();\n",
              "  </script>\n",
              "</div>\n",
              "\n",
              "    </div>\n",
              "  </div>\n"
            ],
            "application/vnd.google.colaboratory.intrinsic+json": {
              "type": "dataframe",
              "variable_name": "df",
              "summary": "{\n  \"name\": \"df\",\n  \"rows\": 1000,\n  \"fields\": [\n    {\n      \"column\": \"Time\",\n      \"properties\": {\n        \"dtype\": \"number\",\n        \"std\": 42866,\n        \"min\": 1351123200,\n        \"max\": 1351209600,\n        \"num_unique_values\": 2,\n        \"samples\": [\n          1351209600,\n          1351123200\n        ],\n        \"semantic_type\": \"\",\n        \"description\": \"\"\n      }\n    },\n    {\n      \"column\": \"ProductId\",\n      \"properties\": {\n        \"dtype\": \"string\",\n        \"num_unique_values\": 868,\n        \"samples\": [\n          \"B007PA30TG\",\n          \"B004EDHD1I\"\n        ],\n        \"semantic_type\": \"\",\n        \"description\": \"\"\n      }\n    },\n    {\n      \"column\": \"UserId\",\n      \"properties\": {\n        \"dtype\": \"string\",\n        \"num_unique_values\": 708,\n        \"samples\": [\n          \"AJZKIQO848M2P\",\n          \"AZPT0S609H54D\"\n        ],\n        \"semantic_type\": \"\",\n        \"description\": \"\"\n      }\n    },\n    {\n      \"column\": \"Score\",\n      \"properties\": {\n        \"dtype\": \"number\",\n        \"std\": 1,\n        \"min\": 1,\n        \"max\": 5,\n        \"num_unique_values\": 5,\n        \"samples\": [\n          1,\n          2\n        ],\n        \"semantic_type\": \"\",\n        \"description\": \"\"\n      }\n    },\n    {\n      \"column\": \"Summary\",\n      \"properties\": {\n        \"dtype\": \"string\",\n        \"num_unique_values\": 721,\n        \"samples\": [\n          \"These are not unsweetened cranberries\",\n          \"Excellent\"\n        ],\n        \"semantic_type\": \"\",\n        \"description\": \"\"\n      }\n    },\n    {\n      \"column\": \"Text\",\n      \"properties\": {\n        \"dtype\": \"string\",\n        \"num_unique_values\": 761,\n        \"samples\": [\n          \"I love this stuff! It's a God sent Remedy for hangovers!.... I understand the health concerns many people have and I can also see that this can be habit forming. I make sure I only take one every so often and not everyday.\",\n          \"I like the crunchy-ness of the middle, but it doesn't have a great flavor, basically just a very sweet taste without much substance. The chocolate around it is pretty sweet too. If you like really sweet candy and crunchy-ness then go ahead and get them, but there are much better chocolates out there.\"\n        ],\n        \"semantic_type\": \"\",\n        \"description\": \"\"\n      }\n    },\n    {\n      \"column\": \"combined\",\n      \"properties\": {\n        \"dtype\": \"string\",\n        \"num_unique_values\": 762,\n        \"samples\": [\n          \"Title: Tasty!; Content: I purchased this to send to my son who's away at college. It was delivered right to his dorm room with very fast shipping. He loved it so much he called me to thank me, and sadly, he hardly ever calls me anymore! If you want your kids to call home, and have some good snack to get them through midterms then send them this.\",\n          \"Title: Good product; Content: I like that this is a better product for my pets but really for the price of it I couldn't afford to buy this all the time. My cat isn't very picky usually and she ate this, we usually buy her the friskies prime filets, the vet said it is better to not change their diet and buy different types of food and flavors all the time so we normally stick with the chicken. I am glad this is a chicken formula since that is what she is used to. If it weren't so expensive I would buy it all the time but I do have to budget. I take good care of my animals but I have to watch the cost so that the humans can eat and pay bills. I am trying to get a baby kitten to start on solid foods and I am trying with this since it is quality and it is easier for him to try and eat than the filets.<br />It is a good quality cat food but it loses one star for being more than I can afford to buy on a constant basis and the cans are very small so it would take more cans to feed a cat.\"\n        ],\n        \"semantic_type\": \"\",\n        \"description\": \"\"\n      }\n    }\n  ]\n}"
            }
          },
          "metadata": {},
          "execution_count": 30
        }
      ],
      "source": [
        "input_datapath = \"https://raw.githubusercontent.com/AlexFly666/002-openai-quickstart-jike-peng/main/openai_api/data/fine_food_reviews_1k.csv\"\n",
        "df = pd.read_csv(input_datapath, index_col=0)\n",
        "df = df[[\"Time\", \"ProductId\", \"UserId\", \"Score\", \"Summary\", \"Text\"]]\n",
        "# 删除包含缺失值的行\n",
        "df = df.dropna()\n",
        "\n",
        "# 将 \"Summary\" 和 \"Text\" 字段组合成新的字段 \"combined\"\n",
        "df[\"combined\"] = (\n",
        "    \"Title: \" + df.Summary.str.strip() + \"; Content: \" + df.Text.str.strip()\n",
        ")\n",
        "df.head(2)"
      ]
    },
    {
      "cell_type": "code",
      "execution_count": 31,
      "metadata": {
        "id": "D0U3sV69aR3P",
        "outputId": "fef69ec8-02ab-4498-8320-08dd57476f59",
        "colab": {
          "base_uri": "https://localhost:8080/",
          "height": 458
        }
      },
      "outputs": [
        {
          "output_type": "execute_result",
          "data": {
            "text/plain": [
              "0      Title: where does one  start...and stop... wit...\n",
              "1      Title: Arrived in pieces; Content: Not pleased...\n",
              "2      Title: It isn't blanc mange, but isn't bad . ....\n",
              "3      Title: These also have SALT and it's not sea s...\n",
              "4      Title: Happy with the product; Content: My dog...\n",
              "                             ...                        \n",
              "995    Title: Delicious!; Content: I have ordered the...\n",
              "996    Title: Good Training Treat; Content: My dog wi...\n",
              "997    Title: Jamica Me Crazy Coffee; Content: Wolfga...\n",
              "998    Title: Party Peanuts; Content: Great product f...\n",
              "999    Title: I love Maui Coffee!; Content: My first ...\n",
              "Name: combined, Length: 1000, dtype: object"
            ],
            "text/html": [
              "<div>\n",
              "<style scoped>\n",
              "    .dataframe tbody tr th:only-of-type {\n",
              "        vertical-align: middle;\n",
              "    }\n",
              "\n",
              "    .dataframe tbody tr th {\n",
              "        vertical-align: top;\n",
              "    }\n",
              "\n",
              "    .dataframe thead th {\n",
              "        text-align: right;\n",
              "    }\n",
              "</style>\n",
              "<table border=\"1\" class=\"dataframe\">\n",
              "  <thead>\n",
              "    <tr style=\"text-align: right;\">\n",
              "      <th></th>\n",
              "      <th>combined</th>\n",
              "    </tr>\n",
              "  </thead>\n",
              "  <tbody>\n",
              "    <tr>\n",
              "      <th>0</th>\n",
              "      <td>Title: where does one  start...and stop... wit...</td>\n",
              "    </tr>\n",
              "    <tr>\n",
              "      <th>1</th>\n",
              "      <td>Title: Arrived in pieces; Content: Not pleased...</td>\n",
              "    </tr>\n",
              "    <tr>\n",
              "      <th>2</th>\n",
              "      <td>Title: It isn't blanc mange, but isn't bad . ....</td>\n",
              "    </tr>\n",
              "    <tr>\n",
              "      <th>3</th>\n",
              "      <td>Title: These also have SALT and it's not sea s...</td>\n",
              "    </tr>\n",
              "    <tr>\n",
              "      <th>4</th>\n",
              "      <td>Title: Happy with the product; Content: My dog...</td>\n",
              "    </tr>\n",
              "    <tr>\n",
              "      <th>...</th>\n",
              "      <td>...</td>\n",
              "    </tr>\n",
              "    <tr>\n",
              "      <th>995</th>\n",
              "      <td>Title: Delicious!; Content: I have ordered the...</td>\n",
              "    </tr>\n",
              "    <tr>\n",
              "      <th>996</th>\n",
              "      <td>Title: Good Training Treat; Content: My dog wi...</td>\n",
              "    </tr>\n",
              "    <tr>\n",
              "      <th>997</th>\n",
              "      <td>Title: Jamica Me Crazy Coffee; Content: Wolfga...</td>\n",
              "    </tr>\n",
              "    <tr>\n",
              "      <th>998</th>\n",
              "      <td>Title: Party Peanuts; Content: Great product f...</td>\n",
              "    </tr>\n",
              "    <tr>\n",
              "      <th>999</th>\n",
              "      <td>Title: I love Maui Coffee!; Content: My first ...</td>\n",
              "    </tr>\n",
              "  </tbody>\n",
              "</table>\n",
              "<p>1000 rows × 1 columns</p>\n",
              "</div><br><label><b>dtype:</b> object</label>"
            ]
          },
          "metadata": {},
          "execution_count": 31
        }
      ],
      "source": [
        "df[\"combined\"]"
      ]
    },
    {
      "cell_type": "code",
      "execution_count": 32,
      "metadata": {
        "id": "OC8vl3glaR3P",
        "outputId": "b660b76d-e3e4-406e-c718-e2471d365c36",
        "colab": {
          "base_uri": "https://localhost:8080/"
        }
      },
      "outputs": [
        {
          "output_type": "execute_result",
          "data": {
            "text/plain": [
              "<Encoding 'cl100k_base'>"
            ]
          },
          "metadata": {},
          "execution_count": 32
        }
      ],
      "source": [
        "# prompt: 查看模型对应的分词器（TOKENIZER）\n",
        "\n",
        "import tiktoken\n",
        "\n",
        "# Assuming 'encoding' is the name of the tokenizer you want to use.\n",
        "# Replace 'text-embedding-ada-002' with the actual model name if different.\n",
        "encoding = tiktoken.encoding_for_model(\"text-embedding-ada-002\")\n",
        "\n",
        "encoding"
      ]
    },
    {
      "cell_type": "markdown",
      "metadata": {
        "id": "Vn8yS2GPaR3P"
      },
      "source": [
        "#### Embedding 模型关键参数"
      ]
    },
    {
      "cell_type": "code",
      "source": [],
      "metadata": {
        "id": "3rny5ifnbNsX"
      },
      "execution_count": 32,
      "outputs": []
    },
    {
      "cell_type": "code",
      "execution_count": 33,
      "metadata": {
        "id": "TdolJ4RiaR3Q"
      },
      "outputs": [],
      "source": [
        "# 模型类型\n",
        "# 建议使用官方推荐的第二代嵌入模型：text-embedding-ada-002\n",
        "embedding_model = \"text-embedding-ada-002\"\n",
        "# text-embedding-ada-002 模型对应的分词器（TOKENIZER）\n",
        "embedding_encoding = \"cl100k_base\"\n",
        "# text-embedding-ada-002 模型支持的输入最大 Token 数是8191，向量维度 1536\n",
        "# 在我们的 DEMO 中过滤 Token 超过 8000 的文本\n",
        "max_tokens = 8000"
      ]
    },
    {
      "cell_type": "markdown",
      "metadata": {
        "id": "2KIJg1CyaR3Q"
      },
      "source": [
        "#### 将样本减少到最近的1,000个评论，并删除过长的样本\n"
      ]
    },
    {
      "cell_type": "code",
      "source": [
        "# prompt: 打印encoding输出\n",
        "\n",
        "import pandas as pd\n",
        "import tiktoken\n",
        "\n",
        "# Assuming 'encoding' is the name of the tokenizer you want to use.\n",
        "# Replace 'text-embedding-ada-002' with the actual model name if different.\n",
        "encoding = tiktoken.encoding_for_model(\"text-embedding-ada-002\")\n",
        "\n",
        "encoding"
      ],
      "metadata": {
        "id": "rMou1nofbvLG",
        "outputId": "9dcb2748-4c75-48e3-f4b6-a67a6c0060ca",
        "colab": {
          "base_uri": "https://localhost:8080/"
        }
      },
      "execution_count": 34,
      "outputs": [
        {
          "output_type": "execute_result",
          "data": {
            "text/plain": [
              "<Encoding 'cl100k_base'>"
            ]
          },
          "metadata": {},
          "execution_count": 34
        }
      ]
    },
    {
      "cell_type": "code",
      "execution_count": 35,
      "metadata": {
        "id": "oOi_9oy_aR3Q",
        "outputId": "41bb0e03-e6a4-4228-cf1a-a0da9f879ccb",
        "colab": {
          "base_uri": "https://localhost:8080/"
        }
      },
      "outputs": [
        {
          "output_type": "stream",
          "name": "stdout",
          "text": [
            "从'embedding_encoding'获取编码： <Encoding 'cl100k_base'>\n"
          ]
        },
        {
          "output_type": "execute_result",
          "data": {
            "text/plain": [
              "1000"
            ]
          },
          "metadata": {},
          "execution_count": 35
        }
      ],
      "source": [
        "# 设置要筛选的评论数量为1000\n",
        "top_n = 1000\n",
        "# 对DataFrame进行排序，基于\"Time\"列，然后选取最后的2000条评论。\n",
        "# 这个假设是，我们认为最近的评论可能更相关，因此我们将对它们进行初始筛选。\n",
        "df = df.sort_values(\"Time\").tail(top_n * 2)\n",
        "# 丢弃\"Time\"列，因为我们在这个分析中不再需要它。\n",
        "df.drop(\"Time\", axis=1, inplace=True)\n",
        "# 从'embedding_encoding'获取编码\n",
        "encoding = tiktoken.get_encoding(embedding_encoding)\n",
        "print(\"从'embedding_encoding'获取编码：\",encoding)\n",
        "# 计算每条评论的token数量。我们通过使用encoding.encode方法获取每条评论的token数，然后把结果存储在新的'n_tokens'列中。\n",
        "df[\"n_tokens\"] = df.combined.apply(lambda x: len(encoding.encode(x)))\n",
        "\n",
        "# 如果评论的token数量超过最大允许的token数量，我们将忽略（删除）该评论。\n",
        "# 我们使用.tail方法获取token数量在允许范围内的最后top_n（1000）条评论。\n",
        "df = df[df.n_tokens <= max_tokens].tail(top_n)\n",
        "\n",
        "# 打印出剩余评论的数量。\n",
        "len(df)"
      ]
    },
    {
      "cell_type": "markdown",
      "metadata": {
        "id": "0djki-HhaR3Q"
      },
      "source": [
        "#### 生成 Embeddings 并保存\n"
      ]
    },
    {
      "cell_type": "code",
      "execution_count": 36,
      "metadata": {
        "id": "sIW3RRb-aR3Q",
        "outputId": "54695681-8f19-418c-f44f-ac397133ec6e",
        "colab": {
          "base_uri": "https://localhost:8080/"
        }
      },
      "outputs": [
        {
          "output_type": "stream",
          "name": "stdout",
          "text": [
            "Requirement already satisfied: openai==1.30.1 in /usr/local/lib/python3.10/dist-packages (1.30.1)\n",
            "Requirement already satisfied: anyio<5,>=3.5.0 in /usr/local/lib/python3.10/dist-packages (from openai==1.30.1) (3.7.1)\n",
            "Requirement already satisfied: distro<2,>=1.7.0 in /usr/local/lib/python3.10/dist-packages (from openai==1.30.1) (1.9.0)\n",
            "Requirement already satisfied: httpx<1,>=0.23.0 in /usr/local/lib/python3.10/dist-packages (from openai==1.30.1) (0.28.1)\n",
            "Requirement already satisfied: pydantic<3,>=1.9.0 in /usr/local/lib/python3.10/dist-packages (from openai==1.30.1) (2.10.3)\n",
            "Requirement already satisfied: sniffio in /usr/local/lib/python3.10/dist-packages (from openai==1.30.1) (1.3.1)\n",
            "Requirement already satisfied: tqdm>4 in /usr/local/lib/python3.10/dist-packages (from openai==1.30.1) (4.67.1)\n",
            "Requirement already satisfied: typing-extensions<5,>=4.7 in /usr/local/lib/python3.10/dist-packages (from openai==1.30.1) (4.12.2)\n",
            "Requirement already satisfied: idna>=2.8 in /usr/local/lib/python3.10/dist-packages (from anyio<5,>=3.5.0->openai==1.30.1) (3.10)\n",
            "Requirement already satisfied: exceptiongroup in /usr/local/lib/python3.10/dist-packages (from anyio<5,>=3.5.0->openai==1.30.1) (1.2.2)\n",
            "Requirement already satisfied: certifi in /usr/local/lib/python3.10/dist-packages (from httpx<1,>=0.23.0->openai==1.30.1) (2024.12.14)\n",
            "Requirement already satisfied: httpcore==1.* in /usr/local/lib/python3.10/dist-packages (from httpx<1,>=0.23.0->openai==1.30.1) (1.0.7)\n",
            "Requirement already satisfied: h11<0.15,>=0.13 in /usr/local/lib/python3.10/dist-packages (from httpcore==1.*->httpx<1,>=0.23.0->openai==1.30.1) (0.14.0)\n",
            "Requirement already satisfied: annotated-types>=0.6.0 in /usr/local/lib/python3.10/dist-packages (from pydantic<3,>=1.9.0->openai==1.30.1) (0.7.0)\n",
            "Requirement already satisfied: pydantic-core==2.27.1 in /usr/local/lib/python3.10/dist-packages (from pydantic<3,>=1.9.0->openai==1.30.1) (2.27.1)\n"
          ]
        }
      ],
      "source": [
        "!pip install openai==1.30.1\n",
        "from openai import OpenAI"
      ]
    },
    {
      "cell_type": "code",
      "source": [
        "# 查看已安装的openai类库的版本\n",
        "# openai类库官方地址：https://github.com/openai/openai-python\n",
        "!pip show openai"
      ],
      "metadata": {
        "id": "GPU4Mnxiij5C",
        "outputId": "31481720-2f86-405f-c7cc-e85774e11d2b",
        "colab": {
          "base_uri": "https://localhost:8080/"
        }
      },
      "execution_count": 37,
      "outputs": [
        {
          "output_type": "stream",
          "name": "stdout",
          "text": [
            "Name: openai\n",
            "Version: 1.30.1\n",
            "Summary: The official Python library for the openai API\n",
            "Home-page: https://github.com/openai/openai-python\n",
            "Author: \n",
            "Author-email: OpenAI <support@openai.com>\n",
            "License: \n",
            "Location: /usr/local/lib/python3.10/dist-packages\n",
            "Requires: anyio, distro, httpx, pydantic, sniffio, tqdm, typing-extensions\n",
            "Required-by: \n"
          ]
        }
      ]
    },
    {
      "cell_type": "code",
      "execution_count": 38,
      "metadata": {
        "colab": {
          "base_uri": "https://localhost:8080/",
          "height": 366
        },
        "id": "jNHqOZbjaR3Q",
        "outputId": "b55c9221-4e74-488b-ba6d-2d78e2957da7"
      },
      "outputs": [
        {
          "output_type": "error",
          "ename": "TypeError",
          "evalue": "Client.__init__() got an unexpected keyword argument 'proxies'",
          "traceback": [
            "\u001b[0;31m---------------------------------------------------------------------------\u001b[0m",
            "\u001b[0;31mTypeError\u001b[0m                                 Traceback (most recent call last)",
            "\u001b[0;32m<ipython-input-38-99725559682a>\u001b[0m in \u001b[0;36m<cell line: 3>\u001b[0;34m()\u001b[0m\n\u001b[1;32m      1\u001b[0m \u001b[0;31m# OpenAI Python SDK v1.0 更新后的使用方式\u001b[0m\u001b[0;34m\u001b[0m\u001b[0;34m\u001b[0m\u001b[0m\n\u001b[1;32m      2\u001b[0m \u001b[0;31m# 使用代理方式，需要修改base_url\u001b[0m\u001b[0;34m\u001b[0m\u001b[0;34m\u001b[0m\u001b[0m\n\u001b[0;32m----> 3\u001b[0;31m client = OpenAI(\n\u001b[0m\u001b[1;32m      4\u001b[0m     \u001b[0mapi_key\u001b[0m\u001b[0;34m=\u001b[0m\u001b[0;34m\"sk-paSHgQoVeKag1rou9d81Fa2f534940C1Ba394f02C45aF3D2\"\u001b[0m\u001b[0;34m,\u001b[0m\u001b[0;34m\u001b[0m\u001b[0;34m\u001b[0m\u001b[0m\n\u001b[1;32m      5\u001b[0m     \u001b[0mbase_url\u001b[0m\u001b[0;34m=\u001b[0m\u001b[0;34m\"https://vip.apiyi.com/v1\"\u001b[0m\u001b[0;34m\u001b[0m\u001b[0;34m\u001b[0m\u001b[0m\n",
            "\u001b[0;32m/usr/local/lib/python3.10/dist-packages/openai/_client.py\u001b[0m in \u001b[0;36m__init__\u001b[0;34m(self, api_key, organization, project, base_url, timeout, max_retries, default_headers, default_query, http_client, _strict_response_validation)\u001b[0m\n\u001b[1;32m    120\u001b[0m             \u001b[0mbase_url\u001b[0m \u001b[0;34m=\u001b[0m \u001b[0;34mf\"https://api.openai.com/v1\"\u001b[0m\u001b[0;34m\u001b[0m\u001b[0;34m\u001b[0m\u001b[0m\n\u001b[1;32m    121\u001b[0m \u001b[0;34m\u001b[0m\u001b[0m\n\u001b[0;32m--> 122\u001b[0;31m         super().__init__(\n\u001b[0m\u001b[1;32m    123\u001b[0m             \u001b[0mversion\u001b[0m\u001b[0;34m=\u001b[0m\u001b[0m__version__\u001b[0m\u001b[0;34m,\u001b[0m\u001b[0;34m\u001b[0m\u001b[0;34m\u001b[0m\u001b[0m\n\u001b[1;32m    124\u001b[0m             \u001b[0mbase_url\u001b[0m\u001b[0;34m=\u001b[0m\u001b[0mbase_url\u001b[0m\u001b[0;34m,\u001b[0m\u001b[0;34m\u001b[0m\u001b[0;34m\u001b[0m\u001b[0m\n",
            "\u001b[0;32m/usr/local/lib/python3.10/dist-packages/openai/_base_client.py\u001b[0m in \u001b[0;36m__init__\u001b[0;34m(self, version, base_url, max_retries, timeout, transport, proxies, limits, http_client, custom_headers, custom_query, _strict_response_validation)\u001b[0m\n\u001b[1;32m    823\u001b[0m             \u001b[0m_strict_response_validation\u001b[0m\u001b[0;34m=\u001b[0m\u001b[0m_strict_response_validation\u001b[0m\u001b[0;34m,\u001b[0m\u001b[0;34m\u001b[0m\u001b[0;34m\u001b[0m\u001b[0m\n\u001b[1;32m    824\u001b[0m         )\n\u001b[0;32m--> 825\u001b[0;31m         self._client = http_client or SyncHttpxClientWrapper(\n\u001b[0m\u001b[1;32m    826\u001b[0m             \u001b[0mbase_url\u001b[0m\u001b[0;34m=\u001b[0m\u001b[0mbase_url\u001b[0m\u001b[0;34m,\u001b[0m\u001b[0;34m\u001b[0m\u001b[0;34m\u001b[0m\u001b[0m\n\u001b[1;32m    827\u001b[0m             \u001b[0;31m# cast to a valid type because mypy doesn't understand our type narrowing\u001b[0m\u001b[0;34m\u001b[0m\u001b[0;34m\u001b[0m\u001b[0m\n",
            "\u001b[0;32m/usr/local/lib/python3.10/dist-packages/openai/_base_client.py\u001b[0m in \u001b[0;36m__init__\u001b[0;34m(self, **kwargs)\u001b[0m\n\u001b[1;32m    721\u001b[0m         \u001b[0mkwargs\u001b[0m\u001b[0;34m.\u001b[0m\u001b[0msetdefault\u001b[0m\u001b[0;34m(\u001b[0m\u001b[0;34m\"limits\"\u001b[0m\u001b[0;34m,\u001b[0m \u001b[0mDEFAULT_CONNECTION_LIMITS\u001b[0m\u001b[0;34m)\u001b[0m\u001b[0;34m\u001b[0m\u001b[0;34m\u001b[0m\u001b[0m\n\u001b[1;32m    722\u001b[0m         \u001b[0mkwargs\u001b[0m\u001b[0;34m.\u001b[0m\u001b[0msetdefault\u001b[0m\u001b[0;34m(\u001b[0m\u001b[0;34m\"follow_redirects\"\u001b[0m\u001b[0;34m,\u001b[0m \u001b[0;32mTrue\u001b[0m\u001b[0;34m)\u001b[0m\u001b[0;34m\u001b[0m\u001b[0;34m\u001b[0m\u001b[0m\n\u001b[0;32m--> 723\u001b[0;31m         \u001b[0msuper\u001b[0m\u001b[0;34m(\u001b[0m\u001b[0;34m)\u001b[0m\u001b[0;34m.\u001b[0m\u001b[0m__init__\u001b[0m\u001b[0;34m(\u001b[0m\u001b[0;34m**\u001b[0m\u001b[0mkwargs\u001b[0m\u001b[0;34m)\u001b[0m\u001b[0;34m\u001b[0m\u001b[0;34m\u001b[0m\u001b[0m\n\u001b[0m\u001b[1;32m    724\u001b[0m \u001b[0;34m\u001b[0m\u001b[0m\n\u001b[1;32m    725\u001b[0m \u001b[0;34m\u001b[0m\u001b[0m\n",
            "\u001b[0;31mTypeError\u001b[0m: Client.__init__() got an unexpected keyword argument 'proxies'"
          ]
        }
      ],
      "source": [
        "# OpenAI Python SDK v1.0 更新后的使用方式\n",
        "# 使用代理方式，需要修改base_url\n",
        "client = OpenAI(\n",
        "    api_key=\"sk-paSHgQoVeKag1rou9d81Fa2f534940C1Ba394f02C45aF3D2\",\n",
        "    base_url=\"https://vip.apiyi.com/v1\"\n",
        ")"
      ]
    },
    {
      "cell_type": "code",
      "execution_count": null,
      "metadata": {
        "scrolled": true,
        "id": "MgMtBkMNaR3R"
      },
      "outputs": [],
      "source": [
        "# 新版本创建 Embedding 向量的方法\n",
        "# Ref：https://community.openai.com/t/embeddings-api-documentation-needs-to-updated/475663\n",
        "res = client.embeddings.create(input=\"abc\", model=embedding_model)\n",
        "print(res.data[0].embedding)"
      ]
    },
    {
      "cell_type": "code",
      "execution_count": null,
      "metadata": {
        "id": "KrvoUY_1aR3R"
      },
      "outputs": [],
      "source": [
        "# 使用新方法调用 OpenAI Embedding API\n",
        "def embedding_text(text, model=\"text-embedding-ada-002\"):\n",
        "    res = client.embeddings.create(input=text, model=model)\n",
        "    return res.data[0].embedding"
      ]
    },
    {
      "cell_type": "markdown",
      "metadata": {
        "id": "VJXGx4C4aR3R"
      },
      "source": [
        "\n",
        "### 注意：如果未使用信用卡支付过 OpenAI 账单的同学，可以直接跳过此步骤。\n",
        "\n",
        "### 提醒：非必须步骤，可直接复用项目中的嵌入文件 fine_food_reviews_with_embeddings_1k\n",
        "\n",
        "对于免费试用用户的前48小时，OpenAI 设置了 [速率限制](https://platform.openai.com/docs/guides/rate-limits/overview)\n",
        "\n",
        "如果你已经支付过 OpenAI API 账单，可以尝试取消注释，调用以下代码测试批量 Embedding："
      ]
    },
    {
      "cell_type": "code",
      "execution_count": null,
      "metadata": {
        "id": "L-wahu2caR3R"
      },
      "outputs": [],
      "source": [
        "# 实际生成会耗时几分钟，逐行调用 OpenAI Embedding API\n",
        "\n",
        "# df[\"embedding\"] = df.combined.apply(embedding_text)\n",
        "# output_datapath = \"data/fine_food_reviews_with_embeddings_1k_1126.csv\"\n",
        "# df.to_csv(output_datapath)"
      ]
    },
    {
      "cell_type": "code",
      "execution_count": null,
      "metadata": {
        "id": "dKihyy8YaR3S"
      },
      "outputs": [],
      "source": [
        "# e0 = df[\"embedding\"][0]"
      ]
    },
    {
      "cell_type": "code",
      "execution_count": null,
      "metadata": {
        "scrolled": true,
        "id": "1tzPIRBxaR3S"
      },
      "outputs": [],
      "source": [
        "# e0"
      ]
    },
    {
      "cell_type": "markdown",
      "metadata": {
        "id": "cI4iTOCTaR3S"
      },
      "source": [
        "## 2.读取 fine_food_reviews_with_embeddings_1k 嵌入文件"
      ]
    },
    {
      "cell_type": "code",
      "execution_count": null,
      "metadata": {
        "id": "a54G7NRYaR3S"
      },
      "outputs": [],
      "source": [
        "embedding_datapath = \"data/fine_food_reviews_with_embeddings_1k.csv\"\n",
        "\n",
        "df_embedded = pd.read_csv(embedding_datapath, index_col=0)"
      ]
    },
    {
      "cell_type": "markdown",
      "metadata": {
        "id": "HegdJnFuaR3S"
      },
      "source": [
        "#### 查看 Embedding 结果"
      ]
    },
    {
      "cell_type": "code",
      "execution_count": null,
      "metadata": {
        "id": "D_ql66QEaR3T"
      },
      "outputs": [],
      "source": [
        "df_embedded[\"embedding\"]"
      ]
    },
    {
      "cell_type": "code",
      "execution_count": null,
      "metadata": {
        "id": "pRryH7QOaR3T"
      },
      "outputs": [],
      "source": [
        "len(df_embedded[\"embedding\"][0])"
      ]
    },
    {
      "cell_type": "code",
      "execution_count": null,
      "metadata": {
        "id": "N4_KDoTMaR3T"
      },
      "outputs": [],
      "source": [
        "type(df_embedded[\"embedding\"][0])"
      ]
    },
    {
      "cell_type": "code",
      "execution_count": null,
      "metadata": {
        "collapsed": true,
        "jupyter": {
          "outputs_hidden": true
        },
        "scrolled": true,
        "id": "TtaZ8EEKaR3U"
      },
      "outputs": [],
      "source": [
        "df_embedded[\"embedding\"][0]"
      ]
    },
    {
      "cell_type": "code",
      "execution_count": null,
      "metadata": {
        "id": "uuq32HPuaR3U"
      },
      "outputs": [],
      "source": [
        "import ast\n",
        "\n",
        "# 将字符串转换为向量\n",
        "df_embedded[\"embedding_vec\"] = df_embedded[\"embedding\"].apply(ast.literal_eval)"
      ]
    },
    {
      "cell_type": "code",
      "execution_count": null,
      "metadata": {
        "id": "TUM1wHGMaR3U"
      },
      "outputs": [],
      "source": [
        "len(df_embedded[\"embedding_vec\"][0])"
      ]
    },
    {
      "cell_type": "code",
      "execution_count": null,
      "metadata": {
        "id": "eEbqs8_kaR3U"
      },
      "outputs": [],
      "source": [
        "df_embedded.head(2)"
      ]
    },
    {
      "cell_type": "code",
      "execution_count": null,
      "metadata": {
        "id": "yz8ZZc-7aR3V"
      },
      "outputs": [],
      "source": []
    },
    {
      "cell_type": "markdown",
      "metadata": {
        "id": "oU4ObabMaR3V"
      },
      "source": [
        "## 3. 使用 t-SNE 可视化 1536 维 Embedding 美食评论"
      ]
    },
    {
      "cell_type": "code",
      "execution_count": null,
      "metadata": {
        "id": "N9Eu0juGaR3V"
      },
      "outputs": [],
      "source": [
        "# 导入 NumPy 包，NumPy 是 Python 的一个开源数值计算扩展。这种工具可用来存储和处理大型矩阵，\n",
        "# 比 Python 自身的嵌套列表（nested list structure)结构要高效的多。\n",
        "import numpy as np\n",
        "# 从 matplotlib 包中导入 pyplot 子库，并将其别名设置为 plt。\n",
        "# matplotlib 是一个 Python 的 2D 绘图库，pyplot 是其子库，提供了一种类似 MATLAB 的绘图框架。\n",
        "import matplotlib.pyplot as plt\n",
        "import matplotlib\n",
        "\n",
        "# 从 sklearn.manifold 模块中导入 TSNE 类。\n",
        "# TSNE (t-Distributed Stochastic Neighbor Embedding) 是一种用于数据可视化的降维方法，尤其擅长处理高维数据的可视化。\n",
        "# 它可以将高维度的数据映射到 2D 或 3D 的空间中，以便我们可以直观地观察和理解数据的结构。\n",
        "from sklearn.manifold import TSNE"
      ]
    },
    {
      "cell_type": "code",
      "execution_count": null,
      "metadata": {
        "id": "CYUNWuGPaR3V"
      },
      "outputs": [],
      "source": [
        "type(df_embedded[\"embedding_vec\"])"
      ]
    },
    {
      "cell_type": "code",
      "execution_count": null,
      "metadata": {
        "id": "BGWXpGuBaR3W"
      },
      "outputs": [],
      "source": [
        "# 首先，确保你的嵌入向量都是等长的\n",
        "assert df_embedded['embedding_vec'].apply(len).nunique() == 1"
      ]
    },
    {
      "cell_type": "code",
      "execution_count": null,
      "metadata": {
        "id": "8lIoaK1haR3W"
      },
      "outputs": [],
      "source": [
        "# 将嵌入向量列表转换为二维 numpy 数组\n",
        "matrix = np.vstack(df_embedded['embedding_vec'].values)"
      ]
    },
    {
      "cell_type": "code",
      "execution_count": null,
      "metadata": {
        "id": "8LzduDRFaR3W"
      },
      "outputs": [],
      "source": [
        "# 创建一个 t-SNE 模型，t-SNE 是一种非线性降维方法，常用于高维数据的可视化。\n",
        "# n_components 表示降维后的维度（在这里是2D）\n",
        "# perplexity 可以被理解为近邻的数量\n",
        "# random_state 是随机数生成器的种子\n",
        "# init 设置初始化方式\n",
        "# learning_rate 是学习率。\n",
        "tsne = TSNE(n_components=2, perplexity=15, random_state=42, init='random', learning_rate=200)"
      ]
    },
    {
      "cell_type": "code",
      "execution_count": null,
      "metadata": {
        "id": "tl7zWmcYaR3W"
      },
      "outputs": [],
      "source": [
        "# 使用 t-SNE 对数据进行降维，得到每个数据点在新的2D空间中的坐标\n",
        "vis_dims = tsne.fit_transform(matrix)"
      ]
    },
    {
      "cell_type": "code",
      "execution_count": null,
      "metadata": {
        "id": "z9oVGKVDaR3W"
      },
      "outputs": [],
      "source": [
        "# 定义了五种不同的颜色，用于在可视化中表示不同的等级\n",
        "colors = [\"red\", \"darkorange\", \"gold\", \"turquoise\", \"darkgreen\"]"
      ]
    },
    {
      "cell_type": "code",
      "execution_count": null,
      "metadata": {
        "id": "wtEI4VAhaR3W"
      },
      "outputs": [],
      "source": [
        "# 从降维后的坐标中分别获取所有数据点的横坐标和纵坐标\n",
        "x = [x for x,y in vis_dims]\n",
        "y = [y for x,y in vis_dims]\n",
        "\n",
        "# 根据数据点的评分（减1是因为评分是从1开始的，而颜色索引是从0开始的）获取对应的颜色索引\n",
        "color_indices = df_embedded.Score.values - 1\n",
        "\n",
        "# 确保你的数据点和颜色索引的数量匹配\n",
        "assert len(vis_dims) == len(df_embedded.Score.values)"
      ]
    },
    {
      "cell_type": "code",
      "execution_count": null,
      "metadata": {
        "id": "SfH1eYHLaR3X"
      },
      "outputs": [],
      "source": [
        "# 创建一个基于预定义颜色的颜色映射对象\n",
        "colormap = matplotlib.colors.ListedColormap(colors)\n",
        "# 使用 matplotlib 创建散点图，其中颜色由颜色映射对象和颜色索引共同决定，alpha 是点的透明度\n",
        "plt.scatter(x, y, c=color_indices, cmap=colormap, alpha=0.3)\n",
        "\n",
        "# 为图形添加标题\n",
        "plt.title(\"Amazon ratings visualized in language using t-SNE\")"
      ]
    },
    {
      "cell_type": "markdown",
      "metadata": {
        "id": "RzzMNgKSaR3X"
      },
      "source": [
        "**t-SNE降维后，评论大致分为3个大类。**"
      ]
    },
    {
      "cell_type": "code",
      "execution_count": null,
      "metadata": {
        "id": "PiN5e2ATaR3X"
      },
      "outputs": [],
      "source": []
    },
    {
      "cell_type": "code",
      "execution_count": null,
      "metadata": {
        "id": "d62FWk-DaR3X"
      },
      "outputs": [],
      "source": []
    },
    {
      "cell_type": "markdown",
      "metadata": {
        "id": "rLlIzmgQaR3X"
      },
      "source": [
        "## 4. 使用 K-Means 聚类，然后使用 t-SNE 可视化"
      ]
    },
    {
      "cell_type": "code",
      "execution_count": null,
      "metadata": {
        "id": "vuJdeE0VaR3X"
      },
      "outputs": [],
      "source": [
        "import numpy as np\n",
        "# 从 scikit-learn中导入 KMeans 类。KMeans 是一个实现 K-Means 聚类算法的类。\n",
        "from sklearn.cluster import KMeans\n",
        "\n",
        "# np.vstack 是一个将输入数据堆叠到一个数组的函数（在垂直方向）。\n",
        "# 这里它用于将所有的 ada_embedding 值堆叠成一个矩阵。\n",
        "# matrix = np.vstack(df.ada_embedding.values)\n",
        "\n",
        "# 定义要生成的聚类数。\n",
        "n_clusters = 4\n",
        "\n",
        "# 创建一个 KMeans 对象，用于进行 K-Means 聚类。\n",
        "# n_clusters 参数指定了要创建的聚类的数量；\n",
        "# init 参数指定了初始化方法（在这种情况下是 'k-means++'）；\n",
        "# random_state 参数为随机数生成器设定了种子值，用于生成初始聚类中心。\n",
        "# n_init=10 消除警告 'FutureWarning: The default value of `n_init` will change from 10 to 'auto' in 1.4'\n",
        "kmeans = KMeans(n_clusters = n_clusters, init='k-means++', random_state=42, n_init=10)\n",
        "\n",
        "# 使用 matrix（我们之前创建的矩阵）来训练 KMeans 模型。这将执行 K-Means 聚类算法。\n",
        "kmeans.fit(matrix)\n",
        "\n",
        "# kmeans.labels_ 属性包含每个输入数据点所属的聚类的索引。\n",
        "# 这里，我们创建一个新的 'Cluster' 列，在这个列中，每个数据点都被赋予其所属的聚类的标签。\n",
        "df_embedded['Cluster'] = kmeans.labels_"
      ]
    },
    {
      "cell_type": "code",
      "execution_count": null,
      "metadata": {
        "id": "0NREVipGaR3X"
      },
      "outputs": [],
      "source": [
        "df_embedded['Cluster']"
      ]
    },
    {
      "cell_type": "code",
      "execution_count": null,
      "metadata": {
        "id": "KGPAsJcVaR3Y"
      },
      "outputs": [],
      "source": [
        "df_embedded.head(2)"
      ]
    },
    {
      "cell_type": "code",
      "execution_count": null,
      "metadata": {
        "id": "_gPrCgspaR3Y"
      },
      "outputs": [],
      "source": [
        "# 首先为每个聚类定义一个颜色。\n",
        "colors = [\"red\", \"green\", \"blue\", \"purple\"]\n",
        "\n",
        "# 然后，你可以使用 t-SNE 来降维数据。这里，我们只考虑 'embedding_vec' 列。\n",
        "tsne_model = TSNE(n_components=2, random_state=42)\n",
        "vis_data = tsne_model.fit_transform(matrix)\n",
        "\n",
        "# 现在，你可以从降维后的数据中获取 x 和 y 坐标。\n",
        "x = vis_data[:, 0]\n",
        "y = vis_data[:, 1]\n",
        "\n",
        "# 'Cluster' 列中的值将被用作颜色索引。\n",
        "color_indices = df_embedded['Cluster'].values\n",
        "\n",
        "# 创建一个基于预定义颜色的颜色映射对象\n",
        "colormap = matplotlib.colors.ListedColormap(colors)\n",
        "\n",
        "# 使用 matplotlib 创建散点图，其中颜色由颜色映射对象和颜色索引共同决定\n",
        "plt.scatter(x, y, c=color_indices, cmap=colormap)\n",
        "\n",
        "# 为图形添加标题\n",
        "plt.title(\"Clustering visualized in 2D using t-SNE\")\n",
        "\n",
        "# 显示图形\n",
        "plt.show()"
      ]
    },
    {
      "cell_type": "markdown",
      "metadata": {
        "id": "GNho7kAgaR3Y"
      },
      "source": [
        "**K-MEANS 聚类可视化效果，4类（官方介绍：一个专注于狗粮，一个专注于负面评论，两个专注于正面评论）。**"
      ]
    },
    {
      "cell_type": "code",
      "execution_count": null,
      "metadata": {
        "id": "tR6UJkZ4aR3Y"
      },
      "outputs": [],
      "source": []
    },
    {
      "cell_type": "code",
      "execution_count": null,
      "metadata": {
        "id": "LMmusW9laR3Y"
      },
      "outputs": [],
      "source": []
    },
    {
      "cell_type": "markdown",
      "metadata": {
        "id": "vHwaHn0YaR3Z"
      },
      "source": [
        "## 5. 使用 Embedding 进行文本搜索"
      ]
    },
    {
      "cell_type": "markdown",
      "metadata": {
        "id": "5_fQQo7laR3Z"
      },
      "source": [
        "![cosine](https://github.com/AlexFly666/002-openai-quickstart-jike-peng/blob/main/openai_api/images/cosine.png?raw=1)"
      ]
    },
    {
      "cell_type": "code",
      "execution_count": null,
      "metadata": {
        "id": "R43PRgPRaR3Z"
      },
      "outputs": [],
      "source": [
        "# cosine_similarity 函数计算两个嵌入向量之间的余弦相似度。\n",
        "def cosine_similarity(a, b):\n",
        "    return np.dot(a, b) / (np.linalg.norm(a) * np.linalg.norm(b))"
      ]
    },
    {
      "cell_type": "code",
      "execution_count": null,
      "metadata": {
        "id": "t8TlaUq_aR3Z"
      },
      "outputs": [],
      "source": [
        "type(df_embedded[\"embedding_vec\"][0])"
      ]
    },
    {
      "cell_type": "code",
      "execution_count": null,
      "metadata": {
        "id": "KIs-gZmtaR3Z"
      },
      "outputs": [],
      "source": [
        "# 定义一个名为 search_reviews 的函数，\n",
        "# Pandas DataFrame 产品描述，数量，以及一个 pprint 标志（默认值为 True）。\n",
        "def search_reviews(df, product_description, n=3, pprint=True):\n",
        "    product_embedding = embedding_text(product_description)\n",
        "\n",
        "    df[\"similarity\"] = df.embedding_vec.apply(lambda x: cosine_similarity(x, product_embedding))\n",
        "\n",
        "    results = (\n",
        "        df.sort_values(\"similarity\", ascending=False)\n",
        "        .head(n)\n",
        "        .combined.str.replace(\"Title: \", \"\")\n",
        "        .str.replace(\"; Content:\", \": \")\n",
        "    )\n",
        "    if pprint:\n",
        "        for r in results:\n",
        "            print(r[:200])\n",
        "            print()\n",
        "    return results"
      ]
    },
    {
      "cell_type": "code",
      "execution_count": null,
      "metadata": {
        "id": "MFPz-le2aR3Z"
      },
      "outputs": [],
      "source": [
        "# 使用 'delicious beans' 作为产品描述和 3 作为数量，\n",
        "# 调用 search_reviews 函数来查找与给定产品描述最相似的前3条评论。\n",
        "# 其结果被存储在 res 变量中。\n",
        "res = search_reviews(df_embedded, 'delicious beans', n=3)"
      ]
    },
    {
      "cell_type": "code",
      "execution_count": null,
      "metadata": {
        "id": "zUNM5R5EaR3Z"
      },
      "outputs": [],
      "source": [
        "res = search_reviews(df_embedded, 'dog food', n=3)"
      ]
    },
    {
      "cell_type": "code",
      "execution_count": null,
      "metadata": {
        "id": "56xJLkPQaR3a"
      },
      "outputs": [],
      "source": [
        "res = search_reviews(df_embedded, 'awful', n=5)"
      ]
    },
    {
      "cell_type": "code",
      "execution_count": null,
      "metadata": {
        "id": "mDevLPagaR3a"
      },
      "outputs": [],
      "source": [
        "def search_reviews(df, product_description, n=3, pprint=True):\n",
        "    product_embedding = embedding_text(product_description)\n",
        "\n",
        "    df[\"similarity\"] = df.embedding_vec.apply(lambda x: cosine_similarity(x, product_embedding))\n",
        "\n",
        "    results = (\n",
        "        df.sort_values(\"similarity\", ascending=False)\n",
        "        .head(n)\n",
        "        .combined.str.replace(\"Title: \", \"\")\n",
        "        .str.replace(\"; Content:\", \": \")\n",
        "    )\n",
        "    if pprint:\n",
        "        for r in results:\n",
        "            print(r[:200])\n",
        "            print()\n",
        "    return results\n",
        "\n",
        "res = search_reviews(df_embedded, 'dog food', n=3)"
      ]
    },
    {
      "cell_type": "code",
      "execution_count": null,
      "metadata": {
        "id": "M5gHeCloaR3a"
      },
      "outputs": [],
      "source": []
    }
  ],
  "metadata": {
    "kernelspec": {
      "display_name": "Python 3 (ipykernel)",
      "language": "python",
      "name": "python3"
    },
    "language_info": {
      "codemirror_mode": {
        "name": "ipython",
        "version": 3
      },
      "file_extension": ".py",
      "mimetype": "text/x-python",
      "name": "python",
      "nbconvert_exporter": "python",
      "pygments_lexer": "ipython3",
      "version": "3.10.14"
    },
    "vscode": {
      "interpreter": {
        "hash": "365536dcbde60510dc9073d6b991cd35db2d9bac356a11f5b64279a5e6708b97"
      }
    },
    "colab": {
      "provenance": [],
      "include_colab_link": true
    }
  },
  "nbformat": 4,
  "nbformat_minor": 0
}