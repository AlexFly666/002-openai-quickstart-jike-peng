{
  "cells": [
    {
      "cell_type": "markdown",
      "metadata": {
        "id": "view-in-github",
        "colab_type": "text"
      },
      "source": [
        "<a href=\"https://colab.research.google.com/github/AlexFly666/002-openai-quickstart-jike-peng/blob/main/langchain/langsmith/01-test.ipynb\" target=\"_parent\"><img src=\"https://colab.research.google.com/assets/colab-badge.svg\" alt=\"Open In Colab\"/></a>"
      ]
    },
    {
      "cell_type": "markdown",
      "id": "40fb2b99-f188-4634-a11e-672e65752afa",
      "metadata": {
        "id": "40fb2b99-f188-4634-a11e-672e65752afa"
      },
      "source": [
        "# LangSmith  快速入门\n",
        "\n"
      ]
    },
    {
      "cell_type": "code",
      "execution_count": 2,
      "id": "4913e104-82e6-4932-8e80-2b8bd57553c3",
      "metadata": {
        "id": "4913e104-82e6-4932-8e80-2b8bd57553c3",
        "outputId": "4cce2027-7ec4-4e14-cff4-209bd6719495",
        "colab": {
          "base_uri": "https://localhost:8080/"
        }
      },
      "outputs": [
        {
          "output_type": "stream",
          "name": "stdout",
          "text": [
            "Requirement already satisfied: langsmith==0.2.10 in /usr/local/lib/python3.10/dist-packages (0.2.10)\n",
            "Requirement already satisfied: httpx<1,>=0.23.0 in /usr/local/lib/python3.10/dist-packages (from langsmith==0.2.10) (0.28.1)\n",
            "Requirement already satisfied: orjson<4.0.0,>=3.9.14 in /usr/local/lib/python3.10/dist-packages (from langsmith==0.2.10) (3.10.13)\n",
            "Requirement already satisfied: pydantic<3,>=1 in /usr/local/lib/python3.10/dist-packages (from langsmith==0.2.10) (2.10.4)\n",
            "Requirement already satisfied: requests<3,>=2 in /usr/local/lib/python3.10/dist-packages (from langsmith==0.2.10) (2.32.3)\n",
            "Requirement already satisfied: requests-toolbelt<2.0.0,>=1.0.0 in /usr/local/lib/python3.10/dist-packages (from langsmith==0.2.10) (1.0.0)\n",
            "Requirement already satisfied: anyio in /usr/local/lib/python3.10/dist-packages (from httpx<1,>=0.23.0->langsmith==0.2.10) (3.7.1)\n",
            "Requirement already satisfied: certifi in /usr/local/lib/python3.10/dist-packages (from httpx<1,>=0.23.0->langsmith==0.2.10) (2024.12.14)\n",
            "Requirement already satisfied: httpcore==1.* in /usr/local/lib/python3.10/dist-packages (from httpx<1,>=0.23.0->langsmith==0.2.10) (1.0.7)\n",
            "Requirement already satisfied: idna in /usr/local/lib/python3.10/dist-packages (from httpx<1,>=0.23.0->langsmith==0.2.10) (3.10)\n",
            "Requirement already satisfied: h11<0.15,>=0.13 in /usr/local/lib/python3.10/dist-packages (from httpcore==1.*->httpx<1,>=0.23.0->langsmith==0.2.10) (0.14.0)\n",
            "Requirement already satisfied: annotated-types>=0.6.0 in /usr/local/lib/python3.10/dist-packages (from pydantic<3,>=1->langsmith==0.2.10) (0.7.0)\n",
            "Requirement already satisfied: pydantic-core==2.27.2 in /usr/local/lib/python3.10/dist-packages (from pydantic<3,>=1->langsmith==0.2.10) (2.27.2)\n",
            "Requirement already satisfied: typing-extensions>=4.12.2 in /usr/local/lib/python3.10/dist-packages (from pydantic<3,>=1->langsmith==0.2.10) (4.12.2)\n",
            "Requirement already satisfied: charset-normalizer<4,>=2 in /usr/local/lib/python3.10/dist-packages (from requests<3,>=2->langsmith==0.2.10) (3.4.1)\n",
            "Requirement already satisfied: urllib3<3,>=1.21.1 in /usr/local/lib/python3.10/dist-packages (from requests<3,>=2->langsmith==0.2.10) (2.3.0)\n",
            "Requirement already satisfied: sniffio>=1.1 in /usr/local/lib/python3.10/dist-packages (from anyio->httpx<1,>=0.23.0->langsmith==0.2.10) (1.3.1)\n",
            "Requirement already satisfied: exceptiongroup in /usr/local/lib/python3.10/dist-packages (from anyio->httpx<1,>=0.23.0->langsmith==0.2.10) (1.2.2)\n",
            "Name: langsmith\n",
            "Version: 0.2.10\n",
            "Summary: Client library to connect to the LangSmith LLM Tracing and Evaluation Platform.\n",
            "Home-page: https://smith.langchain.com/\n",
            "Author: LangChain\n",
            "Author-email: support@langchain.dev\n",
            "License: MIT\n",
            "Location: /usr/local/lib/python3.10/dist-packages\n",
            "Requires: httpx, orjson, pydantic, requests, requests-toolbelt\n",
            "Required-by: langchain, langchain-core\n"
          ]
        }
      ],
      "source": [
        "!pip install langsmith==0.2.10\n",
        "!pip show langsmith"
      ]
    },
    {
      "cell_type": "code",
      "source": [
        "LANGSMITH_TRACING=true\n",
        "LANGSMITH_ENDPOINT=\"https://api.smith.langchain.com\"\n",
        "LANGSMITH_API_KEY=\"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\"\n",
        "LANGSMITH_PROJECT=\"fly101\"\n",
        "OPENAI_API_KEY=\"<your-openai-api-key>\"\n"
      ],
      "metadata": {
        "id": "P3pqCKm0KGhu"
      },
      "id": "P3pqCKm0KGhu",
      "execution_count": null,
      "outputs": []
    },
    {
      "cell_type": "code",
      "source": [
        "import openai\n",
        "from langsmith.wrappers import wrap_openai\n",
        "from langsmith import traceable\n",
        "\n",
        "# Auto-trace LLM calls in-context\n",
        "openaiClient=openai.Client(\n",
        "   api_key=\"sk-paSHgQoVeKag1rou9d81Fa2f534940C1Ba394f02C45aF3D2\",\n",
        "    base_url=\"https://vip.apiyi.com/v1\"\n",
        ")\n",
        "# https://docs.smith.langchain.com/observability/how_to_guides/tracing/annotate_code#wrap-the-openai-client\n",
        "client = wrap_openai(openaiClient)\n",
        "\n",
        "@traceable # Auto-trace this function\n",
        "def pipeline(user_input: str):\n",
        "    result = client.chat.completions.create(\n",
        "        messages=[{\"role\": \"user\", \"content\": user_input}],\n",
        "        model=\"gpt-3.5-turbo\"\n",
        "    )\n",
        "    return result.choices[0].message.content\n",
        "\n",
        "pipeline(\"Hello, world!\")\n",
        "# Out:  Hello there! How can I assist you today?"
      ],
      "metadata": {
        "id": "r6lDlrALKXlF",
        "outputId": "1ef237ea-f25f-459a-9cc9-0c5d161832f8",
        "colab": {
          "base_uri": "https://localhost:8080/",
          "height": 35
        }
      },
      "id": "r6lDlrALKXlF",
      "execution_count": 4,
      "outputs": [
        {
          "output_type": "execute_result",
          "data": {
            "text/plain": [
              "'Hello! How can I assist you today?'"
            ],
            "application/vnd.google.colaboratory.intrinsic+json": {
              "type": "string"
            }
          },
          "metadata": {},
          "execution_count": 4
        }
      ]
    },
    {
      "cell_type": "markdown",
      "source": [
        "### LangSmith服务计划\n",
        "https://smith.langchain.com/o/7bfa9385-4ac5-468a-a06c-ffd7dbac42ec/settings/payments"
      ],
      "metadata": {
        "id": "p-mdeeeoOBHa"
      },
      "id": "p-mdeeeoOBHa"
    }
  ],
  "metadata": {
    "kernelspec": {
      "display_name": "Python 3 (ipykernel)",
      "language": "python",
      "name": "python3"
    },
    "language_info": {
      "codemirror_mode": {
        "name": "ipython",
        "version": 3
      },
      "file_extension": ".py",
      "mimetype": "text/x-python",
      "name": "python",
      "nbconvert_exporter": "python",
      "pygments_lexer": "ipython3",
      "version": "3.10.14"
    },
    "colab": {
      "provenance": [],
      "include_colab_link": true
    }
  },
  "nbformat": 4,
  "nbformat_minor": 5
}