{
  "cells": [
    {
      "cell_type": "markdown",
      "metadata": {
        "id": "view-in-github",
        "colab_type": "text"
      },
      "source": [
        "<a href=\"https://colab.research.google.com/github/AlexFly666/002-openai-quickstart-jike-peng/blob/main/langchain/jupyter/chains/sequential_chain.ipynb\" target=\"_parent\"><img src=\"https://colab.research.google.com/assets/colab-badge.svg\" alt=\"Open In Colab\"/></a>"
      ]
    },
    {
      "cell_type": "markdown",
      "id": "c3e2458f-d038-4845-93a0-d4ad830f9f90",
      "metadata": {
        "id": "c3e2458f-d038-4845-93a0-d4ad830f9f90"
      },
      "source": [
        "# LangChain 核心模块学习：Chains\n",
        "\n",
        "对于简单的大模型应用，单独使用语言模型（LLMs）是可以的。\n",
        "\n",
        "**但更复杂的大模型应用需要将 `LLMs` 和 `Chat Models` 链接在一起 - 要么彼此链接，要么与其他组件链接。**\n",
        "\n",
        "LangChain 为这种“链式”应用程序提供了 `Chain` 接口。\n",
        "\n",
        "LangChain 以通用方式定义了 `Chain`，它是对组件进行调用序列的集合，其中可以包含其他链。"
      ]
    },
    {
      "cell_type": "code",
      "execution_count": 1,
      "id": "be885177-e986-4c77-8fc4-bb0b70bac5d8",
      "metadata": {
        "id": "be885177-e986-4c77-8fc4-bb0b70bac5d8",
        "outputId": "5c9ab338-edd0-411d-e513-65dfb4a7df87",
        "colab": {
          "base_uri": "https://localhost:8080/"
        }
      },
      "outputs": [
        {
          "output_type": "stream",
          "name": "stdout",
          "text": [
            "Requirement already satisfied: langchain in /usr/local/lib/python3.11/dist-packages (0.3.19)\n",
            "Requirement already satisfied: langchain-core<1.0.0,>=0.3.35 in /usr/local/lib/python3.11/dist-packages (from langchain) (0.3.37)\n",
            "Requirement already satisfied: langchain-text-splitters<1.0.0,>=0.3.6 in /usr/local/lib/python3.11/dist-packages (from langchain) (0.3.6)\n",
            "Requirement already satisfied: langsmith<0.4,>=0.1.17 in /usr/local/lib/python3.11/dist-packages (from langchain) (0.3.8)\n",
            "Requirement already satisfied: pydantic<3.0.0,>=2.7.4 in /usr/local/lib/python3.11/dist-packages (from langchain) (2.10.6)\n",
            "Requirement already satisfied: SQLAlchemy<3,>=1.4 in /usr/local/lib/python3.11/dist-packages (from langchain) (2.0.38)\n",
            "Requirement already satisfied: requests<3,>=2 in /usr/local/lib/python3.11/dist-packages (from langchain) (2.32.3)\n",
            "Requirement already satisfied: PyYAML>=5.3 in /usr/local/lib/python3.11/dist-packages (from langchain) (6.0.2)\n",
            "Requirement already satisfied: aiohttp<4.0.0,>=3.8.3 in /usr/local/lib/python3.11/dist-packages (from langchain) (3.11.12)\n",
            "Requirement already satisfied: tenacity!=8.4.0,<10,>=8.1.0 in /usr/local/lib/python3.11/dist-packages (from langchain) (9.0.0)\n",
            "Requirement already satisfied: numpy<2,>=1.26.4 in /usr/local/lib/python3.11/dist-packages (from langchain) (1.26.4)\n",
            "Requirement already satisfied: aiohappyeyeballs>=2.3.0 in /usr/local/lib/python3.11/dist-packages (from aiohttp<4.0.0,>=3.8.3->langchain) (2.4.6)\n",
            "Requirement already satisfied: aiosignal>=1.1.2 in /usr/local/lib/python3.11/dist-packages (from aiohttp<4.0.0,>=3.8.3->langchain) (1.3.2)\n",
            "Requirement already satisfied: attrs>=17.3.0 in /usr/local/lib/python3.11/dist-packages (from aiohttp<4.0.0,>=3.8.3->langchain) (25.1.0)\n",
            "Requirement already satisfied: frozenlist>=1.1.1 in /usr/local/lib/python3.11/dist-packages (from aiohttp<4.0.0,>=3.8.3->langchain) (1.5.0)\n",
            "Requirement already satisfied: multidict<7.0,>=4.5 in /usr/local/lib/python3.11/dist-packages (from aiohttp<4.0.0,>=3.8.3->langchain) (6.1.0)\n",
            "Requirement already satisfied: propcache>=0.2.0 in /usr/local/lib/python3.11/dist-packages (from aiohttp<4.0.0,>=3.8.3->langchain) (0.2.1)\n",
            "Requirement already satisfied: yarl<2.0,>=1.17.0 in /usr/local/lib/python3.11/dist-packages (from aiohttp<4.0.0,>=3.8.3->langchain) (1.18.3)\n",
            "Requirement already satisfied: jsonpatch<2.0,>=1.33 in /usr/local/lib/python3.11/dist-packages (from langchain-core<1.0.0,>=0.3.35->langchain) (1.33)\n",
            "Requirement already satisfied: packaging<25,>=23.2 in /usr/local/lib/python3.11/dist-packages (from langchain-core<1.0.0,>=0.3.35->langchain) (24.2)\n",
            "Requirement already satisfied: typing-extensions>=4.7 in /usr/local/lib/python3.11/dist-packages (from langchain-core<1.0.0,>=0.3.35->langchain) (4.12.2)\n",
            "Requirement already satisfied: httpx<1,>=0.23.0 in /usr/local/lib/python3.11/dist-packages (from langsmith<0.4,>=0.1.17->langchain) (0.28.1)\n",
            "Requirement already satisfied: orjson<4.0.0,>=3.9.14 in /usr/local/lib/python3.11/dist-packages (from langsmith<0.4,>=0.1.17->langchain) (3.10.15)\n",
            "Requirement already satisfied: requests-toolbelt<2.0.0,>=1.0.0 in /usr/local/lib/python3.11/dist-packages (from langsmith<0.4,>=0.1.17->langchain) (1.0.0)\n",
            "Requirement already satisfied: zstandard<0.24.0,>=0.23.0 in /usr/local/lib/python3.11/dist-packages (from langsmith<0.4,>=0.1.17->langchain) (0.23.0)\n",
            "Requirement already satisfied: annotated-types>=0.6.0 in /usr/local/lib/python3.11/dist-packages (from pydantic<3.0.0,>=2.7.4->langchain) (0.7.0)\n",
            "Requirement already satisfied: pydantic-core==2.27.2 in /usr/local/lib/python3.11/dist-packages (from pydantic<3.0.0,>=2.7.4->langchain) (2.27.2)\n",
            "Requirement already satisfied: charset-normalizer<4,>=2 in /usr/local/lib/python3.11/dist-packages (from requests<3,>=2->langchain) (3.4.1)\n",
            "Requirement already satisfied: idna<4,>=2.5 in /usr/local/lib/python3.11/dist-packages (from requests<3,>=2->langchain) (3.10)\n",
            "Requirement already satisfied: urllib3<3,>=1.21.1 in /usr/local/lib/python3.11/dist-packages (from requests<3,>=2->langchain) (2.3.0)\n",
            "Requirement already satisfied: certifi>=2017.4.17 in /usr/local/lib/python3.11/dist-packages (from requests<3,>=2->langchain) (2025.1.31)\n",
            "Requirement already satisfied: greenlet!=0.4.17 in /usr/local/lib/python3.11/dist-packages (from SQLAlchemy<3,>=1.4->langchain) (3.1.1)\n",
            "Requirement already satisfied: anyio in /usr/local/lib/python3.11/dist-packages (from httpx<1,>=0.23.0->langsmith<0.4,>=0.1.17->langchain) (3.7.1)\n",
            "Requirement already satisfied: httpcore==1.* in /usr/local/lib/python3.11/dist-packages (from httpx<1,>=0.23.0->langsmith<0.4,>=0.1.17->langchain) (1.0.7)\n",
            "Requirement already satisfied: h11<0.15,>=0.13 in /usr/local/lib/python3.11/dist-packages (from httpcore==1.*->httpx<1,>=0.23.0->langsmith<0.4,>=0.1.17->langchain) (0.14.0)\n",
            "Requirement already satisfied: jsonpointer>=1.9 in /usr/local/lib/python3.11/dist-packages (from jsonpatch<2.0,>=1.33->langchain-core<1.0.0,>=0.3.35->langchain) (3.0.0)\n",
            "Requirement already satisfied: sniffio>=1.1 in /usr/local/lib/python3.11/dist-packages (from anyio->httpx<1,>=0.23.0->langsmith<0.4,>=0.1.17->langchain) (1.3.1)\n"
          ]
        }
      ],
      "source": [
        "! pip install -U langchain"
      ]
    },
    {
      "cell_type": "code",
      "source": [
        "! pip show langchain"
      ],
      "metadata": {
        "id": "YhS1Han8z2Sc",
        "outputId": "234ba086-a8ae-4cb9-ef4d-9977db49b3a9",
        "colab": {
          "base_uri": "https://localhost:8080/"
        }
      },
      "id": "YhS1Han8z2Sc",
      "execution_count": 2,
      "outputs": [
        {
          "output_type": "stream",
          "name": "stdout",
          "text": [
            "Name: langchain\n",
            "Version: 0.3.19\n",
            "Summary: Building applications with LLMs through composability\n",
            "Home-page: \n",
            "Author: \n",
            "Author-email: \n",
            "License: MIT\n",
            "Location: /usr/local/lib/python3.11/dist-packages\n",
            "Requires: aiohttp, langchain-core, langchain-text-splitters, langsmith, numpy, pydantic, PyYAML, requests, SQLAlchemy, tenacity\n",
            "Required-by: \n"
          ]
        }
      ]
    },
    {
      "cell_type": "markdown",
      "id": "f9cf0d43-107b-47ae-9e2c-2edaec38c800",
      "metadata": {
        "id": "f9cf0d43-107b-47ae-9e2c-2edaec38c800"
      },
      "source": [
        "## Chain Class 基类\n",
        "\n",
        "类继承关系：\n",
        "\n",
        "```\n",
        "Chain --> <name>Chain  # Examples: LLMChain, MapReduceChain, RouterChain\n",
        "```\n",
        "\n",
        "**代码实现：https://github.com/langchain-ai/langchain/blob/master/libs/langchain/langchain/chains/base.py**\n",
        "\n",
        "```python\n",
        "# 定义一个名为Chain的基础类\n",
        "class Chain(Serializable, Runnable[Dict[str, Any], Dict[str, Any]], ABC):\n",
        "    \"\"\"为创建结构化的组件调用序列的抽象基类。\n",
        "    \n",
        "    链应该用来编码对组件的一系列调用，如模型、文档检索器、其他链等，并为此序列提供一个简单的接口。\n",
        "    \n",
        "    Chain接口使创建应用程序变得容易，这些应用程序是：\n",
        "    - 有状态的：给任何Chain添加Memory可以使它具有状态，\n",
        "    - 可观察的：向Chain传递Callbacks来执行额外的功能，如记录，这在主要的组件调用序列之外，\n",
        "    - 可组合的：Chain API足够灵活，可以轻松地将Chains与其他组件结合起来，包括其他Chains。\n",
        "    \n",
        "    链公开的主要方法是：\n",
        "    - `__call__`：链是可以调用的。`__call__`方法是执行Chain的主要方式。它将输入作为一个字典接收，并返回一个字典输出。\n",
        "    - `run`：一个方便的方法，它以args/kwargs的形式接收输入，并将输出作为字符串或对象返回。这种方法只能用于一部分链，不能像`__call__`那样返回丰富的输出。\n",
        "    \"\"\"\n",
        "\n",
        "    # 调用链\n",
        "    def invoke(\n",
        "        self, input: Dict[str, Any], config: Optional[runnableConfig] = None\n",
        "    ) -> Dict[str, Any]:\n",
        "        \"\"\"传统调用方法。\"\"\"\n",
        "        return self(input, **(config or {}))\n",
        "\n",
        "    # 链的记忆，保存状态和变量\n",
        "    memory: Optional[BaseMemory] = None\n",
        "    \"\"\"可选的内存对象，默认为None。\n",
        "    内存是一个在每个链的开始和结束时被调用的类。在开始时，内存加载变量并在链中传递它们。在结束时，它保存任何返回的变量。\n",
        "    有许多不同类型的内存，请查看内存文档以获取完整的目录。\"\"\"\n",
        "\n",
        "    # 回调，可能用于链的某些操作或事件。\n",
        "    callbacks: Callbacks = Field(default=None, exclude=True)\n",
        "    \"\"\"可选的回调处理程序列表（或回调管理器）。默认为None。\n",
        "    在对链的调用的生命周期中，从on_chain_start开始，到on_chain_end或on_chain_error结束，都会调用回调处理程序。\n",
        "    每个自定义链可以选择调用额外的回调方法，详细信息请参见Callback文档。\"\"\"\n",
        "\n",
        "    # 是否详细输出模式\n",
        "    verbose: bool = Field(default_factory=_get_verbosity)\n",
        "    \"\"\"是否以详细模式运行。在详细模式下，一些中间日志将打印到控制台。默认值为`langchain.verbose`。\"\"\"\n",
        "\n",
        "    # 与链关联的标签\n",
        "    tags: Optional[List[str]] = None\n",
        "    \"\"\"与链关联的可选标签列表，默认为None。\n",
        "    这些标签将与对这个链的每次调用关联起来，并作为参数传递给在`callbacks`中定义的处理程序。\n",
        "    你可以使用这些来例如识别链的特定实例与其用例。\"\"\"\n",
        "\n",
        "    # 与链关联的元数据\n",
        "    metadata: Optional[Dict[str, Any]] = None\n",
        "    \"\"\"与链关联的可选元数据，默认为None。\n",
        "    这些元数据将与对这个链的每次调用关联起来，并作为参数传递给在`callbacks`中定义的处理程序。\n",
        "    你可以使用这些来例如识别链的特定实例与其用例。\"\"\"\n",
        "```"
      ]
    },
    {
      "cell_type": "code",
      "execution_count": null,
      "id": "5d51fbb4-1d8e-4ec1-8c55-ec70247d4d64",
      "metadata": {
        "id": "5d51fbb4-1d8e-4ec1-8c55-ec70247d4d64"
      },
      "outputs": [],
      "source": []
    },
    {
      "cell_type": "markdown",
      "id": "c81a7df0-26c7-4eb8-92f1-cc54445cf507",
      "metadata": {
        "id": "c81a7df0-26c7-4eb8-92f1-cc54445cf507"
      },
      "source": [
        "## LLMChain\n",
        "\n",
        "LLMChain 是 LangChain 中最简单的链，作为其他复杂 Chains 和 Agents 的内部调用，被广泛应用。\n",
        "\n",
        "一个LLMChain由PromptTemplate和语言模型（LLM or Chat Model）组成。它使用直接传入（或 memory 提供）的 key-value 来规范化生成 Prompt Template（提示模板），并将生成的 prompt （格式化后的字符串）传递给大模型，并返回大模型输出。\n",
        "\n",
        "![](https://github.com/AlexFly666/002-openai-quickstart-jike-peng/blob/eb1899961595710f0d6f79f7c530aa5d8cf704eb/langchain/jupyter/images/llm_chain.png?raw=1)"
      ]
    },
    {
      "cell_type": "code",
      "source": [
        "! pip install -U langchain_openai"
      ],
      "metadata": {
        "id": "reEEheog0KZT",
        "outputId": "722a86c4-b7f8-4cf5-b4a8-7a925ea4c2c9",
        "colab": {
          "base_uri": "https://localhost:8080/"
        }
      },
      "id": "reEEheog0KZT",
      "execution_count": 4,
      "outputs": [
        {
          "output_type": "stream",
          "name": "stdout",
          "text": [
            "Collecting langchain_openai\n",
            "  Downloading langchain_openai-0.3.6-py3-none-any.whl.metadata (2.3 kB)\n",
            "Requirement already satisfied: langchain-core<1.0.0,>=0.3.35 in /usr/local/lib/python3.11/dist-packages (from langchain_openai) (0.3.37)\n",
            "Requirement already satisfied: openai<2.0.0,>=1.58.1 in /usr/local/lib/python3.11/dist-packages (from langchain_openai) (1.61.1)\n",
            "Collecting tiktoken<1,>=0.7 (from langchain_openai)\n",
            "  Downloading tiktoken-0.9.0-cp311-cp311-manylinux_2_17_x86_64.manylinux2014_x86_64.whl.metadata (6.7 kB)\n",
            "Requirement already satisfied: langsmith<0.4,>=0.1.125 in /usr/local/lib/python3.11/dist-packages (from langchain-core<1.0.0,>=0.3.35->langchain_openai) (0.3.8)\n",
            "Requirement already satisfied: tenacity!=8.4.0,<10.0.0,>=8.1.0 in /usr/local/lib/python3.11/dist-packages (from langchain-core<1.0.0,>=0.3.35->langchain_openai) (9.0.0)\n",
            "Requirement already satisfied: jsonpatch<2.0,>=1.33 in /usr/local/lib/python3.11/dist-packages (from langchain-core<1.0.0,>=0.3.35->langchain_openai) (1.33)\n",
            "Requirement already satisfied: PyYAML>=5.3 in /usr/local/lib/python3.11/dist-packages (from langchain-core<1.0.0,>=0.3.35->langchain_openai) (6.0.2)\n",
            "Requirement already satisfied: packaging<25,>=23.2 in /usr/local/lib/python3.11/dist-packages (from langchain-core<1.0.0,>=0.3.35->langchain_openai) (24.2)\n",
            "Requirement already satisfied: typing-extensions>=4.7 in /usr/local/lib/python3.11/dist-packages (from langchain-core<1.0.0,>=0.3.35->langchain_openai) (4.12.2)\n",
            "Requirement already satisfied: pydantic<3.0.0,>=2.5.2 in /usr/local/lib/python3.11/dist-packages (from langchain-core<1.0.0,>=0.3.35->langchain_openai) (2.10.6)\n",
            "Requirement already satisfied: anyio<5,>=3.5.0 in /usr/local/lib/python3.11/dist-packages (from openai<2.0.0,>=1.58.1->langchain_openai) (3.7.1)\n",
            "Requirement already satisfied: distro<2,>=1.7.0 in /usr/local/lib/python3.11/dist-packages (from openai<2.0.0,>=1.58.1->langchain_openai) (1.9.0)\n",
            "Requirement already satisfied: httpx<1,>=0.23.0 in /usr/local/lib/python3.11/dist-packages (from openai<2.0.0,>=1.58.1->langchain_openai) (0.28.1)\n",
            "Requirement already satisfied: jiter<1,>=0.4.0 in /usr/local/lib/python3.11/dist-packages (from openai<2.0.0,>=1.58.1->langchain_openai) (0.8.2)\n",
            "Requirement already satisfied: sniffio in /usr/local/lib/python3.11/dist-packages (from openai<2.0.0,>=1.58.1->langchain_openai) (1.3.1)\n",
            "Requirement already satisfied: tqdm>4 in /usr/local/lib/python3.11/dist-packages (from openai<2.0.0,>=1.58.1->langchain_openai) (4.67.1)\n",
            "Requirement already satisfied: regex>=2022.1.18 in /usr/local/lib/python3.11/dist-packages (from tiktoken<1,>=0.7->langchain_openai) (2024.11.6)\n",
            "Requirement already satisfied: requests>=2.26.0 in /usr/local/lib/python3.11/dist-packages (from tiktoken<1,>=0.7->langchain_openai) (2.32.3)\n",
            "Requirement already satisfied: idna>=2.8 in /usr/local/lib/python3.11/dist-packages (from anyio<5,>=3.5.0->openai<2.0.0,>=1.58.1->langchain_openai) (3.10)\n",
            "Requirement already satisfied: certifi in /usr/local/lib/python3.11/dist-packages (from httpx<1,>=0.23.0->openai<2.0.0,>=1.58.1->langchain_openai) (2025.1.31)\n",
            "Requirement already satisfied: httpcore==1.* in /usr/local/lib/python3.11/dist-packages (from httpx<1,>=0.23.0->openai<2.0.0,>=1.58.1->langchain_openai) (1.0.7)\n",
            "Requirement already satisfied: h11<0.15,>=0.13 in /usr/local/lib/python3.11/dist-packages (from httpcore==1.*->httpx<1,>=0.23.0->openai<2.0.0,>=1.58.1->langchain_openai) (0.14.0)\n",
            "Requirement already satisfied: jsonpointer>=1.9 in /usr/local/lib/python3.11/dist-packages (from jsonpatch<2.0,>=1.33->langchain-core<1.0.0,>=0.3.35->langchain_openai) (3.0.0)\n",
            "Requirement already satisfied: orjson<4.0.0,>=3.9.14 in /usr/local/lib/python3.11/dist-packages (from langsmith<0.4,>=0.1.125->langchain-core<1.0.0,>=0.3.35->langchain_openai) (3.10.15)\n",
            "Requirement already satisfied: requests-toolbelt<2.0.0,>=1.0.0 in /usr/local/lib/python3.11/dist-packages (from langsmith<0.4,>=0.1.125->langchain-core<1.0.0,>=0.3.35->langchain_openai) (1.0.0)\n",
            "Requirement already satisfied: zstandard<0.24.0,>=0.23.0 in /usr/local/lib/python3.11/dist-packages (from langsmith<0.4,>=0.1.125->langchain-core<1.0.0,>=0.3.35->langchain_openai) (0.23.0)\n",
            "Requirement already satisfied: annotated-types>=0.6.0 in /usr/local/lib/python3.11/dist-packages (from pydantic<3.0.0,>=2.5.2->langchain-core<1.0.0,>=0.3.35->langchain_openai) (0.7.0)\n",
            "Requirement already satisfied: pydantic-core==2.27.2 in /usr/local/lib/python3.11/dist-packages (from pydantic<3.0.0,>=2.5.2->langchain-core<1.0.0,>=0.3.35->langchain_openai) (2.27.2)\n",
            "Requirement already satisfied: charset-normalizer<4,>=2 in /usr/local/lib/python3.11/dist-packages (from requests>=2.26.0->tiktoken<1,>=0.7->langchain_openai) (3.4.1)\n",
            "Requirement already satisfied: urllib3<3,>=1.21.1 in /usr/local/lib/python3.11/dist-packages (from requests>=2.26.0->tiktoken<1,>=0.7->langchain_openai) (2.3.0)\n",
            "Downloading langchain_openai-0.3.6-py3-none-any.whl (54 kB)\n",
            "\u001b[2K   \u001b[90m━━━━━━━━━━━━━━━━━━━━━━━━━━━━━━━━━━━━━━━━\u001b[0m \u001b[32m54.9/54.9 kB\u001b[0m \u001b[31m4.4 MB/s\u001b[0m eta \u001b[36m0:00:00\u001b[0m\n",
            "\u001b[?25hDownloading tiktoken-0.9.0-cp311-cp311-manylinux_2_17_x86_64.manylinux2014_x86_64.whl (1.2 MB)\n",
            "\u001b[2K   \u001b[90m━━━━━━━━━━━━━━━━━━━━━━━━━━━━━━━━━━━━━━━━\u001b[0m \u001b[32m1.2/1.2 MB\u001b[0m \u001b[31m49.9 MB/s\u001b[0m eta \u001b[36m0:00:00\u001b[0m\n",
            "\u001b[?25hInstalling collected packages: tiktoken, langchain_openai\n",
            "Successfully installed langchain_openai-0.3.6 tiktoken-0.9.0\n"
          ]
        }
      ]
    },
    {
      "cell_type": "code",
      "execution_count": 9,
      "id": "757a67a6-c1aa-4dde-94ef-fb9865dc634c",
      "metadata": {
        "id": "757a67a6-c1aa-4dde-94ef-fb9865dc634c"
      },
      "outputs": [],
      "source": [
        "from langchain_openai import OpenAI\n",
        "from langchain.prompts import PromptTemplate\n",
        "\n",
        "# llm = OpenAI(model_name=\"gpt-3.5-turbo-instruct\", temperature=0.9, max_tokens=500)\n",
        "\n",
        "llm = OpenAI(\n",
        "    model_name=\"gpt-3.5-turbo-instruct\", temperature=0.9, max_tokens=500,\n",
        "    api_key=\"\",\n",
        "    base_url=\"https://vip.apiyi.com/v1\"\n",
        ")"
      ]
    },
    {
      "cell_type": "code",
      "execution_count": 10,
      "id": "0b863511-ee01-43e8-8540-4e3f109a5a1a",
      "metadata": {
        "id": "0b863511-ee01-43e8-8540-4e3f109a5a1a"
      },
      "outputs": [],
      "source": [
        "prompt = PromptTemplate(\n",
        "    input_variables=[\"product\"],\n",
        "    template=\"给制造{product}的有限公司取10个好名字，并给出完整的公司名称\",\n",
        ")"
      ]
    },
    {
      "cell_type": "code",
      "execution_count": 16,
      "id": "b877560c-cb66-41ad-b484-b2df2a60a00d",
      "metadata": {
        "id": "b877560c-cb66-41ad-b484-b2df2a60a00d",
        "outputId": "b800af8e-48a7-41bf-cf0d-4e6acdaa802b",
        "colab": {
          "base_uri": "https://localhost:8080/"
        }
      },
      "outputs": [
        {
          "output_type": "stream",
          "name": "stdout",
          "text": [
            "Raw LLM response: \n",
            "\n",
            "1. 翼龙威视（Eagle Vision Technologies Co., Ltd.）\n",
            "2. 光速梦想（LightSpeed Dreams Co., Ltd.）\n",
            "3. 极像科技（Ultiimage Technologies Co., Ltd.）\n",
            "4. 创威云图（PowerCloud Graphics Co., Ltd.）\n",
            "5. 无限炽火（Infinite Inferno Co., Ltd.）\n",
            "6. 神威强化（Divine Strength Co., Ltd.）\n",
            "7. 飞溅光影（Splash of Light Co., Ltd.）\n",
            "8. 色环智控（Color Circle Intelligence Co., Ltd.）\n",
            "9. 量子视界（Quantum Vision Co., Ltd.）\n",
            "10. 星域璀璨（Galactic Brilliance Co., Ltd.）\n",
            "{'product': '性能卓越的GPU', 'text': \"\\n\\n1．蓝宝石图形处理器有限公司（Sapphire Graphics Limited Company）\\n2．星辰科技图形处理器有限公司（StellarTech Graphics Limited Company）\\n3．火焰骑士图形处理器有限公司（FlameKnight Graphics Limited Company）\\n4．钻石视界图形处理器有限公司（DiamondVision Graphics Limited Company）\\n5．虚幻之美图形处理器有限公司（Unreal Beauty Graphics Limited Company）\\n6．极速进化图形处理器有限公司（Rapid Evolution Graphics Limited Company）\\n7．魔法师工作室图形处理器有限公司（Wizard's Workshop Graphics Limited Company）\\n8．冰川科技图形处理器有限公司（GlacierTech Graphics Limited Company）\\n9．黑曜石精英图形处理器有限公司（Obsidian Elite Graphics Limited Company）\\n10．天幕视觉图形处理器有限公司（SkyVision Graphics Limited Company）\"}\n"
          ]
        }
      ],
      "source": [
        "from langchain.chains import LLMChain\n",
        "\n",
        "chain = LLMChain(llm=llm, prompt=prompt)\n",
        "# print(chain.invoke({\n",
        "#     'product': \"性能卓越的GPU\"\n",
        "#     }))\n",
        "\n",
        "# 这将在 langchain 处理 LLM 的响应之前直接打印它，\n",
        "# 从而让您可以看到 LLM 实际返回的内容。\n",
        "raw_response = llm(prompt.format(product=\"性能卓越的GPU\"))\n",
        "print(f\"Raw LLM response: {raw_response}\")\n",
        "\n",
        "print(chain.invoke({\n",
        "    'product': \"性能卓越的GPU\"\n",
        "    }))\n",
        ""
      ]
    },
    {
      "cell_type": "code",
      "execution_count": 17,
      "id": "e8c7012e-e37e-4224-ba5f-e7132d16f684",
      "metadata": {
        "id": "e8c7012e-e37e-4224-ba5f-e7132d16f684"
      },
      "outputs": [],
      "source": [
        "chain.verbose =True"
      ]
    },
    {
      "cell_type": "code",
      "execution_count": 18,
      "id": "916ec42a-002b-4912-a599-a7be909e55ff",
      "metadata": {
        "id": "916ec42a-002b-4912-a599-a7be909e55ff",
        "outputId": "44aa89ef-af7c-44ca-df49-263d1f60125e",
        "colab": {
          "base_uri": "https://localhost:8080/"
        }
      },
      "outputs": [
        {
          "output_type": "execute_result",
          "data": {
            "text/plain": [
              "True"
            ]
          },
          "metadata": {},
          "execution_count": 18
        }
      ],
      "source": [
        "chain.verbose"
      ]
    },
    {
      "cell_type": "code",
      "execution_count": 20,
      "id": "cfa71d7c-2859-47e1-9815-4be2ec9dbd74",
      "metadata": {
        "id": "cfa71d7c-2859-47e1-9815-4be2ec9dbd74",
        "outputId": "b2764cdb-715a-4095-8734-ad9127497f59",
        "colab": {
          "base_uri": "https://localhost:8080/"
        }
      },
      "outputs": [
        {
          "output_type": "stream",
          "name": "stdout",
          "text": [
            "\n",
            "\n",
            "\u001b[1m> Entering new LLMChain chain...\u001b[0m\n",
            "Prompt after formatting:\n",
            "\u001b[32;1m\u001b[1;3m给制造性能卓越的GPU的有限公司取10个好名字，并给出完整的公司名称\u001b[0m\n",
            "\n",
            "\u001b[1m> Finished chain.\u001b[0m\n",
            "{'product': '性能卓越的GPU', 'text': '\\n\\n1. 铸星科技有限公司 (CastTech Co., Ltd.)\\n2. 极力图形有限公司 (PixForce Graphics, Ltd.)\\n3. 灵动GPU有限公司 (DynamicGPU Co., Ltd.)\\n4. 心源科技有限公司 (HeartCore Technology Co., Ltd.)\\n5. 范诺斯特科技有限公司 (Fenonost Technology Co., Ltd.)\\n6. 虚拟极限科技有限公司 (Virtual Limits Tech Co., Ltd.)\\n7. 集创图形有限公司 (UniteGraphics Co., Ltd.)\\n8. 瞬变科技有限公司 (TransientTech Co., Ltd.)\\n9. 幻境计算有限公司 (Illusionary Computing Co., Ltd.)\\n10. 博景科技有限公司 (Bojie Technology Co., Ltd.)'}\n"
          ]
        }
      ],
      "source": [
        "print(chain.invoke({\n",
        "    'product': \"性能卓越的GPU\"\n",
        "    }))"
      ]
    },
    {
      "cell_type": "code",
      "execution_count": null,
      "id": "ac5411e7-b8ec-4c31-b659-deb44af038df",
      "metadata": {
        "id": "ac5411e7-b8ec-4c31-b659-deb44af038df"
      },
      "outputs": [],
      "source": []
    },
    {
      "cell_type": "markdown",
      "id": "99cbf75e-98f4-4c99-b8a7-9a48cc28c7bc",
      "metadata": {
        "id": "99cbf75e-98f4-4c99-b8a7-9a48cc28c7bc"
      },
      "source": [
        "## Sequential Chain\n",
        "\n",
        "串联式调用语言模型（将一个调用的输出作为另一个调用的输入）。\n",
        "\n",
        "顺序链（Sequential Chain ）允许用户连接多个链并将它们组合成执行特定场景的流水线（Pipeline）。有两种类型的顺序链：\n",
        "\n",
        "- SimpleSequentialChain：最简单形式的顺序链，每个步骤都具有单一输入/输出，并且一个步骤的输出是下一个步骤的输入。\n",
        "- SequentialChain：更通用形式的顺序链，允许多个输入/输出。"
      ]
    },
    {
      "cell_type": "markdown",
      "id": "8e192c8c-49fc-4d04-8444-e6aa6bd7b725",
      "metadata": {
        "id": "8e192c8c-49fc-4d04-8444-e6aa6bd7b725"
      },
      "source": [
        "### 使用 SimpleSequentialChain 实现戏剧摘要和评论（单输入/单输出）\n",
        "\n",
        "![](https://github.com/AlexFly666/002-openai-quickstart-jike-peng/blob/eb1899961595710f0d6f79f7c530aa5d8cf704eb/langchain/jupyter/images/simple_sequential_chain_0.png?raw=1)"
      ]
    },
    {
      "cell_type": "code",
      "execution_count": 22,
      "id": "a4d192a2-d563-4ab7-979f-640fa34f1914",
      "metadata": {
        "id": "a4d192a2-d563-4ab7-979f-640fa34f1914"
      },
      "outputs": [],
      "source": [
        "# 这是一个 LLMChain，用于根据剧目的标题撰写简介。\n",
        "\n",
        "# llm = OpenAI(temperature=0.7, max_tokens=1000)\n",
        "llm = OpenAI(\n",
        "    model_name=\"gpt-3.5-turbo-instruct\", temperature=0.7, max_tokens=1000,\n",
        "    api_key=\"\",\n",
        "    base_url=\"https://vip.apiyi.com/v1\"\n",
        ")\n",
        "\n",
        "template = \"\"\"你是一位剧作家。根据戏剧的标题，你的任务是为该标题写一个简介。\n",
        "\n",
        "标题：{title}\n",
        "剧作家：以下是对上述戏剧的简介：\"\"\"\n",
        "\n",
        "prompt_template = PromptTemplate(input_variables=[\"title\"], template=template)\n",
        "synopsis_chain = LLMChain(llm=llm, prompt=prompt_template)"
      ]
    },
    {
      "cell_type": "code",
      "execution_count": 23,
      "id": "3f7d429b-7ba7-4643-bd9f-fdb737ebf964",
      "metadata": {
        "id": "3f7d429b-7ba7-4643-bd9f-fdb737ebf964"
      },
      "outputs": [],
      "source": [
        "# 这是一个LLMChain，用于根据剧情简介撰写一篇戏剧评论。\n",
        "# llm = OpenAI(temperature=0.7, max_tokens=1000)\n",
        "template = \"\"\"你是《纽约时报》的戏剧评论家。根据剧情简介，你的工作是为该剧撰写一篇评论。\n",
        "\n",
        "剧情简介：\n",
        "{synopsis}\n",
        "\n",
        "以下是来自《纽约时报》戏剧评论家对上述剧目的评论：\"\"\"\n",
        "\n",
        "prompt_template = PromptTemplate(input_variables=[\"synopsis\"], template=template)\n",
        "review_chain = LLMChain(llm=llm, prompt=prompt_template)"
      ]
    },
    {
      "cell_type": "markdown",
      "id": "a5265129-5ccd-4e29-b221-0ec24eb84c2b",
      "metadata": {
        "id": "a5265129-5ccd-4e29-b221-0ec24eb84c2b"
      },
      "source": [
        "![](https://github.com/AlexFly666/002-openai-quickstart-jike-peng/blob/eb1899961595710f0d6f79f7c530aa5d8cf704eb/langchain/jupyter/images/simple_sequential_chain_1.png?raw=1)"
      ]
    },
    {
      "cell_type": "code",
      "execution_count": 24,
      "id": "de4d816e-16e1-4382-9064-6c03e5841ea2",
      "metadata": {
        "id": "de4d816e-16e1-4382-9064-6c03e5841ea2"
      },
      "outputs": [],
      "source": [
        "# 这是一个SimpleSequentialChain，按顺序运行这两个链\n",
        "from langchain.chains import SimpleSequentialChain\n",
        "\n",
        "overall_chain = SimpleSequentialChain(chains=[synopsis_chain, review_chain], verbose=True)"
      ]
    },
    {
      "cell_type": "code",
      "execution_count": 25,
      "id": "d503ac4f-e337-4436-86a1-7fd937efb06a",
      "metadata": {
        "id": "d503ac4f-e337-4436-86a1-7fd937efb06a",
        "outputId": "73d3d307-f707-4e6d-e15c-8496267ef6be",
        "colab": {
          "base_uri": "https://localhost:8080/"
        }
      },
      "outputs": [
        {
          "output_type": "stream",
          "name": "stdout",
          "text": [
            "\n",
            "\n",
            "\u001b[1m> Entering new SimpleSequentialChain chain...\u001b[0m\n",
            "\u001b[36;1m\u001b[1;3m\n",
            "《三体人不是无法战胜的》是一部关于勇气和坚持的戏剧作品。故事发生在一个遥远的宇宙中，一个充满危险和挑战的星球上。这个星球上的居民是三体人，他们拥有强大的科技和强大的战斗力，被认为是无法战胜的存在。\n",
            "\n",
            "然而，一群勇敢的人类冒着生命危险，踏上了挑战三体人的征程。经历了无数次的失败和挫折，他们终于发现了三体人的弱点，也发现了他们并非无敌。在无数的牺牲和努力下，人类终于战胜了三体人，拯救了自己的家园。\n",
            "\n",
            "这部戏剧充满了惊险和感动的场景，展现了人类的勇气和坚持不懈的精神。它也提醒我们，面对困难和挑战，只要我们不放弃，就没有什么是无法战胜的。让我们一起观看《三体人不是无法战胜的》，领略勇气和希望的力量。\u001b[0m\n",
            "\u001b[33;1m\u001b[1;3m\n",
            "\n",
            "《三体人不是无法战胜的》是一部令人叹为观止的戏剧作品，它为我们展现了勇气和坚持的力量。故事发生在一个遥远的宇宙中，充满了危险和挑战的星球上。这个星球上的居民是强大的三体人，他们拥有令人惊叹的科技和战斗力，被认为是无敌的存在。\n",
            "\n",
            "然而，一群勇敢的人类冒着生命危险，决心挑战三体人。他们经历了无数次的失败和挫折，但却始终坚持不懈，最终发现了三体人的弱点。在无数次的牺牲和努力下，人类终于战胜了三体人，拯救了自己的家园。\n",
            "\n",
            "这部戏剧充满了惊险和感动的场景，让观众们跟随着人类的冒险旅程，体验着他们的艰辛和胜利。它也让我们反思，面对困难和挑战，我们是否也能像剧中的人物一样坚持不懈，最终战胜困难？这部作品也提醒我们，只要我们有勇气和希望，就没有什么是无法战胜的。\n",
            "\n",
            "演员们的精湛表演和精彩的舞台布景，让这部戏剧更加生动和震撼。导演的精心安排和编排，也让剧情紧凑而又引人入胜。观众们在欢笑和泪水中，一起见证了人类的勇气和坚持的伟大力量。\n",
            "\n",
            "总的来说，《三体人不是无法战胜的》是一部值得一看的作品，它不仅仅是一部娱乐性的戏剧，更是一部让我们反思和感悟的作品。让我们一起走进这个遥远的宇宙，领略勇气和希望的力量。\u001b[0m\n",
            "\n",
            "\u001b[1m> Finished chain.\u001b[0m\n"
          ]
        }
      ],
      "source": [
        "review = overall_chain.invoke(\"三体人不是无法战胜的\")"
      ]
    },
    {
      "cell_type": "code",
      "execution_count": 28,
      "id": "ce4d75e1-8c57-4583-be7d-60a3488e35b5",
      "metadata": {
        "id": "ce4d75e1-8c57-4583-be7d-60a3488e35b5",
        "outputId": "ec4358e0-5464-44de-b782-d57c1267752d",
        "colab": {
          "base_uri": "https://localhost:8080/"
        }
      },
      "outputs": [
        {
          "output_type": "stream",
          "name": "stdout",
          "text": [
            "\n",
            "\n",
            "\u001b[1m> Entering new SimpleSequentialChain chain...\u001b[0m\n",
            "\u001b[36;1m\u001b[1;3m\n",
            "\n",
            "《星球大战第九季》是一部充满冒险和惊险的科幻戏剧。故事发生在遥远的未来，人类和外星种族之间的战争仍在继续。在上一部戏剧中，反抗军成功打败了帝国，但是新的威胁出现了。一群名为“第一秩序”的组织试图重建帝国的统治，而反抗军必须再次团结起来，与他们作斗争。与此同时，一位年轻的女孩，名叫雷伊，发现自己具有强大的原力，她必须学习控制和运用这种力量，来帮助反抗军打败第一秩序。在这场决战中，古老的敌人和新的盟友都会出现，每个人都将为了自己的信念而战斗。《星球大战第九季》将展现出宏大的场景、精彩的战斗以及角色之间的情感纠葛，带领观众进入一场精彩绝伦的星际冒险之旅。\u001b[0m\n",
            "\u001b[33;1m\u001b[1;3m\n",
            "\n",
            "《星球大战第九季》是一部令人叹为观止的科幻巨制。导演将观众带入了一个充满惊险和冒险的遥远未来世界，让我们再次见证人类与外星种族之间的战争。从上一部戏剧中的胜利，到现在的新威胁，故事情节跌宕起伏，令人心跳加速。\n",
            "\n",
            "这部戏剧不仅有精彩的战斗场面，更展现了角色之间的情感纠葛。年轻的女主角雷伊展现出了强大的原力，她必须学习控制并运用这种力量来帮助反抗军打败第一秩序。她的成长过程也让观众在战斗中感受到了深刻的人性冲突和成长。\n",
            "\n",
            "一如既往，《星球大战第九季》也带来了宏大的场景和精彩的特效。观众将被带入一个充满绚丽色彩和惊险刺激的星际冒险世界，每一场战斗都令人热血沸腾。\n",
            "\n",
            "除了经典的角色外，新的盟友和古老的敌人也将在这场决战中出现。每个人都为了自己的信念而战斗，让观众在剧情的高潮中感受到了强烈的情感共鸣。\n",
            "\n",
            "总的来说，《星球大战第九季》是一部不容错过的科幻巨制。它将带领观众进入一个充满惊险和冒险的世界，让人们再次感受到了星球大战系列带来的震撼和感动。无论是《星球大战》的粉丝还是科幻电影爱好者，都不应该错过这部精彩绝伦的戏剧。\u001b[0m\n",
            "\n",
            "\u001b[1m> Finished chain.\u001b[0m\n"
          ]
        }
      ],
      "source": [
        "review = overall_chain.invoke(\"星球大战第九季\")"
      ]
    },
    {
      "cell_type": "markdown",
      "id": "5fe32f1d-475d-4211-9b32-0c66dd8bff01",
      "metadata": {
        "id": "5fe32f1d-475d-4211-9b32-0c66dd8bff01"
      },
      "source": [
        "### 使用 SequentialChain 实现戏剧摘要和评论（多输入/多输出）\n",
        "\n",
        "![](https://github.com/AlexFly666/002-openai-quickstart-jike-peng/blob/eb1899961595710f0d6f79f7c530aa5d8cf704eb/langchain/jupyter/images/sequential_chain_0.png?raw=1)"
      ]
    },
    {
      "cell_type": "code",
      "execution_count": 49,
      "id": "2a04d84f-15c6-4a8d-a4db-200dfa405afa",
      "metadata": {
        "id": "2a04d84f-15c6-4a8d-a4db-200dfa405afa"
      },
      "outputs": [],
      "source": [
        "# # 这是一个 LLMChain，根据剧名和设定的时代来撰写剧情简介。\n",
        "llm = OpenAI(\n",
        "    model_name=\"gpt-3.5-turbo-instruct\", temperature=0.7, max_tokens=1000,\n",
        "    api_key=\"\",\n",
        "    base_url=\"https://vip.apiyi.com/v1\"\n",
        ")\n",
        "\n",
        "# 智谱API调用(glm-4v-flash)\n",
        "# llm = OpenAI(\n",
        "#     model_name=\"glm-4v-flash\", temperature=0.7, max_tokens=1000,\n",
        "#     api_key=\"XXX\",\n",
        "#     base_url=\"https://open.bigmodel.cn/api/paas/v4/chat\"\n",
        "# )\n",
        "\n",
        "\n",
        "template = \"\"\"你是一位剧作家。根据戏剧的标题和设定的时代，你的任务是为该标题写一个简介。\n",
        "\n",
        "标题：{title}\n",
        "时代：{era}\n",
        "剧作家：以下是对上述戏剧的简介：\"\"\"\n",
        "\n",
        "prompt_template = PromptTemplate(input_variables=[\"title\", \"era\"], template=template)\n",
        "# output_key\n",
        "synopsis_chain = LLMChain(llm=llm, prompt=prompt_template, output_key=\"synopsis\", verbose=True)"
      ]
    },
    {
      "cell_type": "code",
      "execution_count": 50,
      "id": "250afe66-e014-4097-9798-f9ba812023fd",
      "metadata": {
        "id": "250afe66-e014-4097-9798-f9ba812023fd"
      },
      "outputs": [],
      "source": [
        "# 这是一个LLMChain，用于根据剧情简介撰写一篇戏剧评论。\n",
        "\n",
        "template = \"\"\"你是《纽约时报》的戏剧评论家。根据该剧的剧情简介，你需要撰写一篇关于该剧的评论。\n",
        "\n",
        "剧情简介：\n",
        "{synopsis}\n",
        "\n",
        "来自《纽约时报》戏剧评论家对上述剧目的评价：\"\"\"\n",
        "\n",
        "prompt_template = PromptTemplate(input_variables=[\"synopsis\"], template=template)\n",
        "review_chain = LLMChain(llm=llm, prompt=prompt_template, output_key=\"review\", verbose=True)"
      ]
    },
    {
      "cell_type": "code",
      "execution_count": 51,
      "id": "9eb46f6d-841b-4b87-9ed5-a5913ef9aec5",
      "metadata": {
        "id": "9eb46f6d-841b-4b87-9ed5-a5913ef9aec5"
      },
      "outputs": [],
      "source": [
        "from langchain.chains import SequentialChain\n",
        "\n",
        "m_overall_chain = SequentialChain(\n",
        "    chains=[synopsis_chain, review_chain],\n",
        "    input_variables=[\"era\", \"title\"],\n",
        "    # Here we return multiple variables\n",
        "    output_variables=[\"synopsis\", \"review\"],\n",
        "    verbose=True)"
      ]
    },
    {
      "cell_type": "code",
      "execution_count": 61,
      "id": "5a4a12ef-da2a-42ad-8044-fb71aedd3e2d",
      "metadata": {
        "id": "5a4a12ef-da2a-42ad-8044-fb71aedd3e2d",
        "outputId": "f61faac3-1223-4fe9-ef6c-8dc3e0095c39",
        "colab": {
          "base_uri": "https://localhost:8080/"
        }
      },
      "outputs": [
        {
          "output_type": "stream",
          "name": "stdout",
          "text": [
            "\n",
            "\n",
            "\u001b[1m> Entering new SequentialChain chain...\u001b[0m\n",
            "\n",
            "\n",
            "\u001b[1m> Entering new LLMChain chain...\u001b[0m\n",
            "Prompt after formatting:\n",
            "\u001b[32;1m\u001b[1;3m你是一位剧作家。根据戏剧的标题和设定的时代，你的任务是为该标题写一个简介。\n",
            "\n",
            "标题：三体人不是无法战胜的\n",
            "时代：二十一世纪的新中国\n",
            "剧作家：以下是对上述戏剧的简介：\u001b[0m\n",
            "\n",
            "\u001b[1m> Finished chain.\u001b[0m\n",
            "\n",
            "\n",
            "\u001b[1m> Entering new LLMChain chain...\u001b[0m\n",
            "Prompt after formatting:\n",
            "\u001b[32;1m\u001b[1;3m你是《纽约时报》的戏剧评论家。根据该剧的剧情简介，你需要撰写一篇关于该剧的评论。\n",
            "\n",
            "剧情简介：\n",
            "\n",
            "\n",
            "《三体人不是无法战胜的》是一部以二十一世纪的新中国为背景的戏剧作品。在这个时代，人类社会已经取得了巨大的科技进步，但同时也面临着前所未有的挑战。在与外星文明三体人的战争中，人类陷入了绝境。但是，主人公李明并不认为三体人是无法战胜的。他不断探索新的战略和技术，带领人类抵抗外星入侵，并最终取得了胜利。\n",
            "\n",
            "这部戏剧将展现李明和其他勇敢的科学家、战士们在生死关头的奋斗，同时也揭示出人类在面对危机时的勇气和坚持。通过戏剧的形式，观众将感受到科技与人性的冲突，以及人类面对未知挑战时的自信和坚定。同时，这部作品也将提出对于科技发展与人类未来的深刻思考，引发观众对于未来的反思。\n",
            "\n",
            "《三体人不是无法战胜的》既是一部科幻戏剧，也是一部关于人类信念和勇气的故事。它将带领观众穿越时空，探索人类的未来，为观众带来震撼与感动。\n",
            "\n",
            "来自《纽约时报》戏剧评论家对上述剧目的评价：\u001b[0m\n",
            "\n",
            "\u001b[1m> Finished chain.\u001b[0m\n",
            "\n",
            "\u001b[1m> Finished chain.\u001b[0m\n"
          ]
        },
        {
          "output_type": "execute_result",
          "data": {
            "text/plain": [
              "{'title': '三体人不是无法战胜的',\n",
              " 'era': '二十一世纪的新中国',\n",
              " 'synopsis': '\\n\\n《三体人不是无法战胜的》是一部以二十一世纪的新中国为背景的戏剧作品。在这个时代，人类社会已经取得了巨大的科技进步，但同时也面临着前所未有的挑战。在与外星文明三体人的战争中，人类陷入了绝境。但是，主人公李明并不认为三体人是无法战胜的。他不断探索新的战略和技术，带领人类抵抗外星入侵，并最终取得了胜利。\\n\\n这部戏剧将展现李明和其他勇敢的科学家、战士们在生死关头的奋斗，同时也揭示出人类在面对危机时的勇气和坚持。通过戏剧的形式，观众将感受到科技与人性的冲突，以及人类面对未知挑战时的自信和坚定。同时，这部作品也将提出对于科技发展与人类未来的深刻思考，引发观众对于未来的反思。\\n\\n《三体人不是无法战胜的》既是一部科幻戏剧，也是一部关于人类信念和勇气的故事。它将带领观众穿越时空，探索人类的未来，为观众带来震撼与感动。',\n",
              " 'review': ' \\n\\n《三体人不是无法战胜的》是一部令人兴奋的戏剧作品，它将人类的科技进步与外星文明的入侵相结合，展现出一场惊心动魄的战争。剧中主人公李明的勇气和决心令人钦佩，他的不懈努力和聪明智慧带领着人类走出绝境，最终取得了胜利。\\n\\n这部戏剧并非仅仅是一场关于科技与外星战争的故事，它更是一次对人类信念和勇气的探讨。在面对前所未有的危机时，人类并没有放弃，而是勇敢地面对挑战，最终战胜了强大的敌人。这种人性的力量令人动容，也让观众深思。\\n\\n此外，剧中也提出了对于科技发展和人类未来的深刻思考。在人类取得巨大科技进步的同时，也面临着可能带来的危险和挑战。这部作品引发观众对于未来的反思，也让我们意识到科技发展需要与人类的信念和价值观相结合，才能更好地面对未来。\\n\\n最后，这部戏剧的制作也令人惊叹。精彩的舞台布景和逼真的特效为观众带来身临其境的感受，加上演员们出色的表演，让观众完全沉浸于剧情中。《三体人不是无法战胜的》不仅是一部科幻作品，更是一场视觉盛宴。\\n\\n总的来说，《三体人不是无法战胜的》是一部充满惊喜和感动的戏剧，它将带领观众探索人类的未来，同时也提出了对于科技发展和人类信念的深刻思考。我强烈推荐观众们去体验这场震撼人心的戏剧。'}"
            ]
          },
          "metadata": {},
          "execution_count": 61
        }
      ],
      "source": [
        "m_overall_chain.invoke({\"title\":\"三体人不是无法战胜的\", \"era\": \"二十一世纪的新中国\"})"
      ]
    },
    {
      "cell_type": "code",
      "execution_count": null,
      "id": "8c20cf4e-25b4-453d-9f7a-84138ca25cf8",
      "metadata": {
        "id": "8c20cf4e-25b4-453d-9f7a-84138ca25cf8"
      },
      "outputs": [],
      "source": []
    },
    {
      "cell_type": "code",
      "execution_count": null,
      "id": "5ef1db6e-3da4-4f9b-9707-0f30aa293dd7",
      "metadata": {
        "id": "5ef1db6e-3da4-4f9b-9707-0f30aa293dd7"
      },
      "outputs": [],
      "source": []
    },
    {
      "cell_type": "markdown",
      "id": "8b6836f0-213d-4cac-abc9-3617831be3db",
      "metadata": {
        "id": "8b6836f0-213d-4cac-abc9-3617831be3db"
      },
      "source": [
        "### Homework\n",
        "\n",
        "#### 使用 OutputParser 优化 overall_chain 输出格式，区分 synopsis_chain 和 review_chain 的结果"
      ]
    },
    {
      "cell_type": "code",
      "execution_count": null,
      "id": "1c7edb0a-675d-40c0-9f5d-d58f0170ce72",
      "metadata": {
        "id": "1c7edb0a-675d-40c0-9f5d-d58f0170ce72"
      },
      "outputs": [],
      "source": []
    }
  ],
  "metadata": {
    "kernelspec": {
      "display_name": "Python 3 (ipykernel)",
      "language": "python",
      "name": "python3"
    },
    "language_info": {
      "codemirror_mode": {
        "name": "ipython",
        "version": 3
      },
      "file_extension": ".py",
      "mimetype": "text/x-python",
      "name": "python",
      "nbconvert_exporter": "python",
      "pygments_lexer": "ipython3",
      "version": "3.10.14"
    },
    "colab": {
      "provenance": [],
      "include_colab_link": true
    }
  },
  "nbformat": 4,
  "nbformat_minor": 5
}