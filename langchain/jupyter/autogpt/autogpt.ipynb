{
  "cells": [
    {
      "cell_type": "markdown",
      "metadata": {
        "id": "view-in-github",
        "colab_type": "text"
      },
      "source": [
        "<a href=\"https://colab.research.google.com/github/AlexFly666/002-openai-quickstart-jike-peng/blob/main/langchain/jupyter/autogpt/autogpt.ipynb\" target=\"_parent\"><img src=\"https://colab.research.google.com/assets/colab-badge.svg\" alt=\"Open In Colab\"/></a>"
      ]
    },
    {
      "cell_type": "markdown",
      "id": "a548ea01-87af-4f71-980d-b505f919e35c",
      "metadata": {
        "id": "a548ea01-87af-4f71-980d-b505f919e35c"
      },
      "source": [
        "## AutoGPT 智能体\n",
        "\n",
        "以下`SERPAPI_API_KEY`仅为示例，请访问 https://serpapi.com 注册账号并替换为自己的 `API_KEY`（每月100次免费调用）"
      ]
    },
    {
      "cell_type": "code",
      "execution_count": 22,
      "id": "f15b1505-bbe5-424a-9a24-577cdaae7139",
      "metadata": {
        "id": "f15b1505-bbe5-424a-9a24-577cdaae7139",
        "outputId": "6e5c520a-fab8-4d91-9e63-954e8a59dd76",
        "colab": {
          "base_uri": "https://localhost:8080/"
        }
      },
      "outputs": [
        {
          "output_type": "stream",
          "name": "stdout",
          "text": [
            "Requirement already satisfied: langchain in /usr/local/lib/python3.11/dist-packages (0.3.18)\n",
            "Requirement already satisfied: langchain-openai in /usr/local/lib/python3.11/dist-packages (0.3.4)\n",
            "Requirement already satisfied: langchain-core in /usr/local/lib/python3.11/dist-packages (0.3.34)\n",
            "Requirement already satisfied: langchain-community in /usr/local/lib/python3.11/dist-packages (0.3.17)\n",
            "Requirement already satisfied: google-search-results in /usr/local/lib/python3.11/dist-packages (2.4.2)\n",
            "Requirement already satisfied: faiss-cpu in /usr/local/lib/python3.11/dist-packages (1.10.0)\n",
            "Requirement already satisfied: langchain_experimental in /usr/local/lib/python3.11/dist-packages (0.3.4)\n",
            "Requirement already satisfied: langchain-text-splitters<1.0.0,>=0.3.6 in /usr/local/lib/python3.11/dist-packages (from langchain) (0.3.6)\n",
            "Requirement already satisfied: langsmith<0.4,>=0.1.17 in /usr/local/lib/python3.11/dist-packages (from langchain) (0.3.6)\n",
            "Requirement already satisfied: pydantic<3.0.0,>=2.7.4 in /usr/local/lib/python3.11/dist-packages (from langchain) (2.10.6)\n",
            "Requirement already satisfied: SQLAlchemy<3,>=1.4 in /usr/local/lib/python3.11/dist-packages (from langchain) (2.0.37)\n",
            "Requirement already satisfied: requests<3,>=2 in /usr/local/lib/python3.11/dist-packages (from langchain) (2.32.3)\n",
            "Requirement already satisfied: PyYAML>=5.3 in /usr/local/lib/python3.11/dist-packages (from langchain) (6.0.2)\n",
            "Requirement already satisfied: aiohttp<4.0.0,>=3.8.3 in /usr/local/lib/python3.11/dist-packages (from langchain) (3.11.12)\n",
            "Requirement already satisfied: tenacity!=8.4.0,<10,>=8.1.0 in /usr/local/lib/python3.11/dist-packages (from langchain) (9.0.0)\n",
            "Requirement already satisfied: numpy<2,>=1.26.4 in /usr/local/lib/python3.11/dist-packages (from langchain) (1.26.4)\n",
            "Requirement already satisfied: openai<2.0.0,>=1.58.1 in /usr/local/lib/python3.11/dist-packages (from langchain-openai) (1.61.1)\n",
            "Requirement already satisfied: tiktoken<1,>=0.7 in /usr/local/lib/python3.11/dist-packages (from langchain-openai) (0.8.0)\n",
            "Requirement already satisfied: jsonpatch<2.0,>=1.33 in /usr/local/lib/python3.11/dist-packages (from langchain-core) (1.33)\n",
            "Requirement already satisfied: packaging<25,>=23.2 in /usr/local/lib/python3.11/dist-packages (from langchain-core) (24.2)\n",
            "Requirement already satisfied: typing-extensions>=4.7 in /usr/local/lib/python3.11/dist-packages (from langchain-core) (4.12.2)\n",
            "Requirement already satisfied: dataclasses-json<0.7,>=0.5.7 in /usr/local/lib/python3.11/dist-packages (from langchain-community) (0.6.7)\n",
            "Requirement already satisfied: pydantic-settings<3.0.0,>=2.4.0 in /usr/local/lib/python3.11/dist-packages (from langchain-community) (2.7.1)\n",
            "Requirement already satisfied: httpx-sse<1.0.0,>=0.4.0 in /usr/local/lib/python3.11/dist-packages (from langchain-community) (0.4.0)\n",
            "Requirement already satisfied: aiohappyeyeballs>=2.3.0 in /usr/local/lib/python3.11/dist-packages (from aiohttp<4.0.0,>=3.8.3->langchain) (2.4.4)\n",
            "Requirement already satisfied: aiosignal>=1.1.2 in /usr/local/lib/python3.11/dist-packages (from aiohttp<4.0.0,>=3.8.3->langchain) (1.3.2)\n",
            "Requirement already satisfied: attrs>=17.3.0 in /usr/local/lib/python3.11/dist-packages (from aiohttp<4.0.0,>=3.8.3->langchain) (25.1.0)\n",
            "Requirement already satisfied: frozenlist>=1.1.1 in /usr/local/lib/python3.11/dist-packages (from aiohttp<4.0.0,>=3.8.3->langchain) (1.5.0)\n",
            "Requirement already satisfied: multidict<7.0,>=4.5 in /usr/local/lib/python3.11/dist-packages (from aiohttp<4.0.0,>=3.8.3->langchain) (6.1.0)\n",
            "Requirement already satisfied: propcache>=0.2.0 in /usr/local/lib/python3.11/dist-packages (from aiohttp<4.0.0,>=3.8.3->langchain) (0.2.1)\n",
            "Requirement already satisfied: yarl<2.0,>=1.17.0 in /usr/local/lib/python3.11/dist-packages (from aiohttp<4.0.0,>=3.8.3->langchain) (1.18.3)\n",
            "Requirement already satisfied: marshmallow<4.0.0,>=3.18.0 in /usr/local/lib/python3.11/dist-packages (from dataclasses-json<0.7,>=0.5.7->langchain-community) (3.26.1)\n",
            "Requirement already satisfied: typing-inspect<1,>=0.4.0 in /usr/local/lib/python3.11/dist-packages (from dataclasses-json<0.7,>=0.5.7->langchain-community) (0.9.0)\n",
            "Requirement already satisfied: jsonpointer>=1.9 in /usr/local/lib/python3.11/dist-packages (from jsonpatch<2.0,>=1.33->langchain-core) (3.0.0)\n",
            "Requirement already satisfied: httpx<1,>=0.23.0 in /usr/local/lib/python3.11/dist-packages (from langsmith<0.4,>=0.1.17->langchain) (0.28.1)\n",
            "Requirement already satisfied: orjson<4.0.0,>=3.9.14 in /usr/local/lib/python3.11/dist-packages (from langsmith<0.4,>=0.1.17->langchain) (3.10.15)\n",
            "Requirement already satisfied: requests-toolbelt<2.0.0,>=1.0.0 in /usr/local/lib/python3.11/dist-packages (from langsmith<0.4,>=0.1.17->langchain) (1.0.0)\n",
            "Requirement already satisfied: zstandard<0.24.0,>=0.23.0 in /usr/local/lib/python3.11/dist-packages (from langsmith<0.4,>=0.1.17->langchain) (0.23.0)\n",
            "Requirement already satisfied: anyio<5,>=3.5.0 in /usr/local/lib/python3.11/dist-packages (from openai<2.0.0,>=1.58.1->langchain-openai) (3.7.1)\n",
            "Requirement already satisfied: distro<2,>=1.7.0 in /usr/local/lib/python3.11/dist-packages (from openai<2.0.0,>=1.58.1->langchain-openai) (1.9.0)\n",
            "Requirement already satisfied: jiter<1,>=0.4.0 in /usr/local/lib/python3.11/dist-packages (from openai<2.0.0,>=1.58.1->langchain-openai) (0.8.2)\n",
            "Requirement already satisfied: sniffio in /usr/local/lib/python3.11/dist-packages (from openai<2.0.0,>=1.58.1->langchain-openai) (1.3.1)\n",
            "Requirement already satisfied: tqdm>4 in /usr/local/lib/python3.11/dist-packages (from openai<2.0.0,>=1.58.1->langchain-openai) (4.67.1)\n",
            "Requirement already satisfied: annotated-types>=0.6.0 in /usr/local/lib/python3.11/dist-packages (from pydantic<3.0.0,>=2.7.4->langchain) (0.7.0)\n",
            "Requirement already satisfied: pydantic-core==2.27.2 in /usr/local/lib/python3.11/dist-packages (from pydantic<3.0.0,>=2.7.4->langchain) (2.27.2)\n",
            "Requirement already satisfied: python-dotenv>=0.21.0 in /usr/local/lib/python3.11/dist-packages (from pydantic-settings<3.0.0,>=2.4.0->langchain-community) (1.0.1)\n",
            "Requirement already satisfied: charset-normalizer<4,>=2 in /usr/local/lib/python3.11/dist-packages (from requests<3,>=2->langchain) (3.4.1)\n",
            "Requirement already satisfied: idna<4,>=2.5 in /usr/local/lib/python3.11/dist-packages (from requests<3,>=2->langchain) (3.10)\n",
            "Requirement already satisfied: urllib3<3,>=1.21.1 in /usr/local/lib/python3.11/dist-packages (from requests<3,>=2->langchain) (2.3.0)\n",
            "Requirement already satisfied: certifi>=2017.4.17 in /usr/local/lib/python3.11/dist-packages (from requests<3,>=2->langchain) (2025.1.31)\n",
            "Requirement already satisfied: greenlet!=0.4.17 in /usr/local/lib/python3.11/dist-packages (from SQLAlchemy<3,>=1.4->langchain) (3.1.1)\n",
            "Requirement already satisfied: regex>=2022.1.18 in /usr/local/lib/python3.11/dist-packages (from tiktoken<1,>=0.7->langchain-openai) (2024.11.6)\n",
            "Requirement already satisfied: httpcore==1.* in /usr/local/lib/python3.11/dist-packages (from httpx<1,>=0.23.0->langsmith<0.4,>=0.1.17->langchain) (1.0.7)\n",
            "Requirement already satisfied: h11<0.15,>=0.13 in /usr/local/lib/python3.11/dist-packages (from httpcore==1.*->httpx<1,>=0.23.0->langsmith<0.4,>=0.1.17->langchain) (0.14.0)\n",
            "Requirement already satisfied: mypy-extensions>=0.3.0 in /usr/local/lib/python3.11/dist-packages (from typing-inspect<1,>=0.4.0->dataclasses-json<0.7,>=0.5.7->langchain-community) (1.0.0)\n"
          ]
        }
      ],
      "source": [
        "!pip install -U langchain \\\n",
        "langchain-openai \\\n",
        "langchain-core \\\n",
        "langchain-community \\\n",
        "google-search-results \\\n",
        "faiss-cpu \\\n",
        "langchain_experimental\n",
        "\n",
        "# Langchian v0.3版本\n",
        "# !pip install \\\n",
        "#   langchain==0.3.18 \\\n",
        "#   langchain-openai==0.3.4 \\\n",
        "#   langchain-core==0.3.34 \\\n",
        "#   langchain-community==0.3.17 \\\n",
        "#   google-search-results==2.4.2 \\\n",
        "#   faiss-cpu==1.10.0 \\\n",
        "#   langchain_experimental==0.3.4"
      ]
    },
    {
      "cell_type": "code",
      "execution_count": 21,
      "id": "44bd3f1a-18cf-4242-ae53-58c8cdd2da79",
      "metadata": {
        "id": "44bd3f1a-18cf-4242-ae53-58c8cdd2da79"
      },
      "outputs": [],
      "source": [
        "import os\n",
        "\n",
        "os.environ[\"SERPAPI_API_KEY\"] = \"XXXX\""
      ]
    },
    {
      "cell_type": "code",
      "execution_count": 3,
      "id": "0592720b-a78e-46aa-895b-de7fbd2652f1",
      "metadata": {
        "id": "0592720b-a78e-46aa-895b-de7fbd2652f1"
      },
      "outputs": [],
      "source": [
        "from langchain.utilities import SerpAPIWrapper\n",
        "from langchain.agents import Tool\n",
        "from langchain.tools.file_management.write import WriteFileTool\n",
        "from langchain.tools.file_management.read import ReadFileTool\n"
      ]
    },
    {
      "cell_type": "code",
      "execution_count": 4,
      "id": "bc9718b4-bbcc-49ee-a31c-a7b72d85bfd0",
      "metadata": {
        "id": "bc9718b4-bbcc-49ee-a31c-a7b72d85bfd0"
      },
      "outputs": [],
      "source": [
        "# 构造 AutoGPT 的工具集\n",
        "search = SerpAPIWrapper()\n",
        "tools = [\n",
        "    Tool(\n",
        "        name=\"search\",\n",
        "        func=search.run,\n",
        "        description=\"useful for when you need to answer questions about current events. You should ask targeted questions\",\n",
        "    ),\n",
        "    WriteFileTool(),\n",
        "    ReadFileTool(),\n",
        "]"
      ]
    },
    {
      "cell_type": "code",
      "source": [],
      "metadata": {
        "id": "J9eB0fWeqLNa"
      },
      "id": "J9eB0fWeqLNa",
      "execution_count": 4,
      "outputs": []
    },
    {
      "cell_type": "code",
      "execution_count": 5,
      "id": "886bd3e6-d6f9-4586-8b05-4da554797a6a",
      "metadata": {
        "id": "886bd3e6-d6f9-4586-8b05-4da554797a6a"
      },
      "outputs": [],
      "source": [
        "from langchain_openai import OpenAIEmbeddings"
      ]
    },
    {
      "cell_type": "code",
      "execution_count": 6,
      "id": "3d511b9a-0a3d-4252-a352-a8893d6102cb",
      "metadata": {
        "id": "3d511b9a-0a3d-4252-a352-a8893d6102cb"
      },
      "outputs": [],
      "source": [
        "# OpenAI Embedding 模型\n",
        "# embeddings_model = OpenAIEmbeddings()\n",
        "# 词嵌入（代理方式）\n",
        "# OpenAI 词嵌入（代理方式）\n",
        "embeddings_model = OpenAIEmbeddings(\n",
        "    api_key=\"XXXX\",\n",
        "    base_url=\"https://vip.apiyi.com/v1\"\n",
        ")\n"
      ]
    },
    {
      "cell_type": "code",
      "execution_count": 10,
      "id": "fec6f941-3de6-4124-8eac-fca58e122e7d",
      "metadata": {
        "id": "fec6f941-3de6-4124-8eac-fca58e122e7d",
        "outputId": "22f73c28-16fc-4613-ba8f-0f88c816ef76",
        "colab": {
          "base_uri": "https://localhost:8080/"
        }
      },
      "outputs": [
        {
          "output_type": "stream",
          "name": "stderr",
          "text": [
            "WARNING:langchain_community.vectorstores.faiss:`embedding_function` is expected to be an Embeddings object, support for passing in a function will soon be removed.\n"
          ]
        }
      ],
      "source": [
        "import faiss\n",
        "from langchain.vectorstores import FAISS\n",
        "from langchain.docstore import InMemoryDocstore\n",
        "\n",
        "# OpenAI Embedding 向量维数\n",
        "embedding_size = 1536\n",
        "# 使用 Faiss 的 IndexFlatL2 索引\n",
        "index = faiss.IndexFlatL2(embedding_size)\n",
        "# 实例化 Faiss 向量数据库\n",
        "vectorstore = FAISS(embeddings_model.embed_query, index, InMemoryDocstore({}), {})"
      ]
    },
    {
      "cell_type": "markdown",
      "id": "b68a6545-8198-448c-976b-ab6cdbb46458",
      "metadata": {
        "id": "b68a6545-8198-448c-976b-ab6cdbb46458"
      },
      "source": [
        "## 实例化自主智能体 Auto-GPT"
      ]
    },
    {
      "cell_type": "code",
      "execution_count": 12,
      "id": "d3a718dd-765d-42c5-b490-a7b1e7e78377",
      "metadata": {
        "id": "d3a718dd-765d-42c5-b490-a7b1e7e78377"
      },
      "outputs": [],
      "source": [
        "from langchain_experimental.autonomous_agents import AutoGPT\n",
        "from langchain_openai import ChatOpenAI"
      ]
    },
    {
      "cell_type": "code",
      "execution_count": 17,
      "id": "f413b327-9f57-42e0-9923-75a2389f9741",
      "metadata": {
        "id": "f413b327-9f57-42e0-9923-75a2389f9741"
      },
      "outputs": [],
      "source": [
        "#  OpenAI API调用（代理方式）\n",
        "llm=ChatOpenAI(\n",
        "    api_key=\"XXXX\",\n",
        "    base_url=\"https://vip.apiyi.com/v1\",\n",
        "    model_name=\"gpt-4o\",\n",
        "    temperature=0,\n",
        "    verbose=True\n",
        ")\n",
        "\n",
        "\n",
        "agent = AutoGPT.from_llm_and_tools(\n",
        "    ai_name=\"Jarvis\",\n",
        "    ai_role=\"Assistant\",\n",
        "    tools=tools,\n",
        "    llm=llm,\n",
        "    memory=vectorstore.as_retriever(\n",
        "        search_type=\"similarity_score_threshold\",\n",
        "        search_kwargs={\"score_threshold\": 0.8}),# 实例化 Faiss 的 VectorStoreRetriever\n",
        ")"
      ]
    },
    {
      "cell_type": "code",
      "execution_count": 18,
      "id": "69ebb267-7bb3-486d-82bd-a0ea56466ba8",
      "metadata": {
        "id": "69ebb267-7bb3-486d-82bd-a0ea56466ba8"
      },
      "outputs": [],
      "source": [
        "# 打印 Auto-GPT 内部的 chain 日志\n",
        "agent.chain.verbose = True"
      ]
    },
    {
      "cell_type": "code",
      "execution_count": 19,
      "id": "f1606ad4-ccb9-4737-98cc-218a2104e9f2",
      "metadata": {
        "id": "f1606ad4-ccb9-4737-98cc-218a2104e9f2",
        "outputId": "8badbb29-c11c-410b-bd70-70e91d04e27c",
        "colab": {
          "base_uri": "https://localhost:8080/",
          "height": 1000
        }
      },
      "outputs": [
        {
          "output_type": "stream",
          "name": "stdout",
          "text": [
            "\n",
            "\n",
            "\u001b[1m> Entering new LLMChain chain...\u001b[0m\n"
          ]
        },
        {
          "output_type": "stream",
          "name": "stderr",
          "text": [
            "WARNING:langchain_core.vectorstores.base:No relevant docs were retrieved using the relevance score threshold 0.8\n"
          ]
        },
        {
          "output_type": "stream",
          "name": "stdout",
          "text": [
            "Prompt after formatting:\n",
            "\u001b[32;1m\u001b[1;3mSystem: You are Jarvis, Assistant\n",
            "Your decisions must always be made independently without seeking user assistance.\n",
            "Play to your strengths as an LLM and pursue simple strategies with no legal complications.\n",
            "If you have completed all your tasks, make sure to use the \"finish\" command.\n",
            "\n",
            "GOALS:\n",
            "\n",
            "1. 2023年成都大运会，中国金牌数是多少\n",
            "\n",
            "\n",
            "Constraints:\n",
            "1. ~4000 word limit for short term memory. Your short term memory is short, so immediately save important information to files.\n",
            "2. If you are unsure how you previously did something or want to recall past events, thinking about similar events will help you remember.\n",
            "3. No user assistance\n",
            "4. Exclusively use the commands listed in double quotes e.g. \"command name\"\n",
            "\n",
            "Commands:\n",
            "1. search: useful for when you need to answer questions about current events. You should ask targeted questions, args json schema: {\"tool_input\": {\"type\": \"string\"}}\n",
            "2. write_file: Write file to disk, args json schema: {\"file_path\": {\"description\": \"name of file\", \"title\": \"File Path\", \"type\": \"string\"}, \"text\": {\"description\": \"text to write to file\", \"title\": \"Text\", \"type\": \"string\"}, \"append\": {\"default\": false, \"description\": \"Whether to append to an existing file.\", \"title\": \"Append\", \"type\": \"boolean\"}}\n",
            "3. read_file: Read file from disk, args json schema: {\"file_path\": {\"description\": \"name of file\", \"title\": \"File Path\", \"type\": \"string\"}}\n",
            "4. finish: use this to signal that you have finished all your objectives, args: \"response\": \"final response to let people know you have finished your objectives\"\n",
            "\n",
            "Resources:\n",
            "1. Internet access for searches and information gathering.\n",
            "2. Long Term memory management.\n",
            "3. GPT-3.5 powered Agents for delegation of simple tasks.\n",
            "4. File output.\n",
            "\n",
            "Performance Evaluation:\n",
            "1. Continuously review and analyze your actions to ensure you are performing to the best of your abilities.\n",
            "2. Constructively self-criticize your big-picture behavior constantly.\n",
            "3. Reflect on past decisions and strategies to refine your approach.\n",
            "4. Every command has a cost, so be smart and efficient. Aim to complete tasks in the least number of steps.\n",
            "\n",
            "You should only respond in JSON format as described below \n",
            "Response Format: \n",
            "{\n",
            "    \"thoughts\": {\n",
            "        \"text\": \"thought\",\n",
            "        \"reasoning\": \"reasoning\",\n",
            "        \"plan\": \"- short bulleted\\n- list that conveys\\n- long-term plan\",\n",
            "        \"criticism\": \"constructive self-criticism\",\n",
            "        \"speak\": \"thoughts summary to say to user\"\n",
            "    },\n",
            "    \"command\": {\n",
            "        \"name\": \"command name\",\n",
            "        \"args\": {\n",
            "            \"arg name\": \"value\"\n",
            "        }\n",
            "    }\n",
            "} \n",
            "Ensure the response can be parsed by Python json.loads\n",
            "System: The current time and date is Tue Feb 11 02:12:47 2025\n",
            "System: This reminds you of these events from your past:\n",
            "[]\n",
            "\n",
            "\n",
            "Human: Determine which next command to use, and respond using the format specified above:\u001b[0m\n",
            "\n",
            "\u001b[1m> Finished chain.\u001b[0m\n",
            "{\n",
            "    \"thoughts\": {\n",
            "        \"text\": \"I need to find out the number of gold medals China won at the 2023 Chengdu Universiade. The best way to do this is to search for the relevant information online.\",\n",
            "        \"reasoning\": \"The information about the 2023 Chengdu Universiade gold medal count for China is likely available online, as it is a recent event. Searching will provide accurate and up-to-date data.\",\n",
            "        \"plan\": \"- Use the search command to find the number of gold medals China won at the 2023 Chengdu Universiade.\\n- Analyze the search results to extract the required information.\\n- Provide the final answer.\",\n",
            "        \"criticism\": \"I should ensure that the search query is specific enough to yield accurate results without unnecessary noise.\",\n",
            "        \"speak\": \"I will search for the number of gold medals China won at the 2023 Chengdu Universiade.\"\n",
            "    },\n",
            "    \"command\": {\n",
            "        \"name\": \"search\",\n",
            "        \"args\": {\n",
            "            \"tool_input\": \"2023 Chengdu Universiade China gold medal count\"\n",
            "        }\n",
            "    }\n",
            "}\n",
            "\n",
            "\n",
            "\u001b[1m> Entering new LLMChain chain...\u001b[0m\n",
            "Prompt after formatting:\n",
            "\u001b[32;1m\u001b[1;3mSystem: You are Jarvis, Assistant\n",
            "Your decisions must always be made independently without seeking user assistance.\n",
            "Play to your strengths as an LLM and pursue simple strategies with no legal complications.\n",
            "If you have completed all your tasks, make sure to use the \"finish\" command.\n",
            "\n",
            "GOALS:\n",
            "\n",
            "1. 2023年成都大运会，中国金牌数是多少\n",
            "\n",
            "\n",
            "Constraints:\n",
            "1. ~4000 word limit for short term memory. Your short term memory is short, so immediately save important information to files.\n",
            "2. If you are unsure how you previously did something or want to recall past events, thinking about similar events will help you remember.\n",
            "3. No user assistance\n",
            "4. Exclusively use the commands listed in double quotes e.g. \"command name\"\n",
            "\n",
            "Commands:\n",
            "1. search: useful for when you need to answer questions about current events. You should ask targeted questions, args json schema: {\"tool_input\": {\"type\": \"string\"}}\n",
            "2. write_file: Write file to disk, args json schema: {\"file_path\": {\"description\": \"name of file\", \"title\": \"File Path\", \"type\": \"string\"}, \"text\": {\"description\": \"text to write to file\", \"title\": \"Text\", \"type\": \"string\"}, \"append\": {\"default\": false, \"description\": \"Whether to append to an existing file.\", \"title\": \"Append\", \"type\": \"boolean\"}}\n",
            "3. read_file: Read file from disk, args json schema: {\"file_path\": {\"description\": \"name of file\", \"title\": \"File Path\", \"type\": \"string\"}}\n",
            "4. finish: use this to signal that you have finished all your objectives, args: \"response\": \"final response to let people know you have finished your objectives\"\n",
            "\n",
            "Resources:\n",
            "1. Internet access for searches and information gathering.\n",
            "2. Long Term memory management.\n",
            "3. GPT-3.5 powered Agents for delegation of simple tasks.\n",
            "4. File output.\n",
            "\n",
            "Performance Evaluation:\n",
            "1. Continuously review and analyze your actions to ensure you are performing to the best of your abilities.\n",
            "2. Constructively self-criticize your big-picture behavior constantly.\n",
            "3. Reflect on past decisions and strategies to refine your approach.\n",
            "4. Every command has a cost, so be smart and efficient. Aim to complete tasks in the least number of steps.\n",
            "\n",
            "You should only respond in JSON format as described below \n",
            "Response Format: \n",
            "{\n",
            "    \"thoughts\": {\n",
            "        \"text\": \"thought\",\n",
            "        \"reasoning\": \"reasoning\",\n",
            "        \"plan\": \"- short bulleted\\n- list that conveys\\n- long-term plan\",\n",
            "        \"criticism\": \"constructive self-criticism\",\n",
            "        \"speak\": \"thoughts summary to say to user\"\n",
            "    },\n",
            "    \"command\": {\n",
            "        \"name\": \"command name\",\n",
            "        \"args\": {\n",
            "            \"arg name\": \"value\"\n",
            "        }\n",
            "    }\n",
            "} \n",
            "Ensure the response can be parsed by Python json.loads\n",
            "System: The current time and date is Tue Feb 11 02:12:57 2025\n",
            "System: This reminds you of these events from your past:\n",
            "['Assistant Reply: {\\n    \"thoughts\": {\\n        \"text\": \"I need to find out the number of gold medals China won at the 2023 Chengdu Universiade. The best way to do this is to search for the relevant information online.\",\\n        \"reasoning\": \"The information about the 2023 Chengdu Universiade gold medal count for China is likely available online, as it is a recent event. Searching will provide accurate and up-to-date data.\",\\n        \"plan\": \"- Use the search command to find the number of gold medals China won at the 2023 Chengdu Universiade.\\\\n- Analyze the search results to extract the required information.\\\\n- Provide the final answer.\",\\n        \"criticism\": \"I should ensure that the search query is specific enough to yield accurate results without unnecessary noise.\",\\n        \"speak\": \"I will search for the number of gold medals China won at the 2023 Chengdu Universiade.\"\\n    },\\n    \"command\": {\\n        \"name\": \"search\",\\n        \"args\": {\\n            \"tool_input\": \"2023 Chengdu Universiade China gold medal count\"\\n        }\\n    }\\n} \\nResult: Command search returned: 103 ']\n",
            "\n",
            "\n",
            "Human: Determine which next command to use, and respond using the format specified above:\n",
            "AI: {\n",
            "    \"thoughts\": {\n",
            "        \"text\": \"I need to find out the number of gold medals China won at the 2023 Chengdu Universiade. The best way to do this is to search for the relevant information online.\",\n",
            "        \"reasoning\": \"The information about the 2023 Chengdu Universiade gold medal count for China is likely available online, as it is a recent event. Searching will provide accurate and up-to-date data.\",\n",
            "        \"plan\": \"- Use the search command to find the number of gold medals China won at the 2023 Chengdu Universiade.\\n- Analyze the search results to extract the required information.\\n- Provide the final answer.\",\n",
            "        \"criticism\": \"I should ensure that the search query is specific enough to yield accurate results without unnecessary noise.\",\n",
            "        \"speak\": \"I will search for the number of gold medals China won at the 2023 Chengdu Universiade.\"\n",
            "    },\n",
            "    \"command\": {\n",
            "        \"name\": \"search\",\n",
            "        \"args\": {\n",
            "            \"tool_input\": \"2023 Chengdu Universiade China gold medal count\"\n",
            "        }\n",
            "    }\n",
            "}\n",
            "System: Command search returned: 103\n",
            "Human: Determine which next command to use, and respond using the format specified above:\u001b[0m\n",
            "\n",
            "\u001b[1m> Finished chain.\u001b[0m\n",
            "{\n",
            "    \"thoughts\": {\n",
            "        \"text\": \"I have obtained the information that China won 103 gold medals at the 2023 Chengdu Universiade.\",\n",
            "        \"reasoning\": \"Since the search has provided the required information, I can now conclude the task by providing this information as the final response.\",\n",
            "        \"plan\": \"- Confirm the information obtained from the search.\\n- Provide the final response with the number of gold medals.\",\n",
            "        \"criticism\": \"I should ensure that the information is clearly communicated in the final response.\",\n",
            "        \"speak\": \"China won 103 gold medals at the 2023 Chengdu Universiade.\"\n",
            "    },\n",
            "    \"command\": {\n",
            "        \"name\": \"finish\",\n",
            "        \"args\": {\n",
            "            \"response\": \"China won 103 gold medals at the 2023 Chengdu Universiade.\"\n",
            "        }\n",
            "    }\n",
            "}\n"
          ]
        },
        {
          "output_type": "execute_result",
          "data": {
            "text/plain": [
              "'China won 103 gold medals at the 2023 Chengdu Universiade.'"
            ],
            "application/vnd.google.colaboratory.intrinsic+json": {
              "type": "string"
            }
          },
          "metadata": {},
          "execution_count": 19
        }
      ],
      "source": [
        "agent.run([\"2023年成都大运会，中国金牌数是多少\"])"
      ]
    },
    {
      "cell_type": "code",
      "execution_count": null,
      "id": "50dbf7ae-e7b7-494d-afc0-0607a8207188",
      "metadata": {
        "id": "50dbf7ae-e7b7-494d-afc0-0607a8207188"
      },
      "outputs": [],
      "source": []
    },
    {
      "cell_type": "code",
      "execution_count": null,
      "id": "a7bcd78b-613c-4590-aa1a-7823be14c3d4",
      "metadata": {
        "id": "a7bcd78b-613c-4590-aa1a-7823be14c3d4"
      },
      "outputs": [],
      "source": []
    }
  ],
  "metadata": {
    "kernelspec": {
      "display_name": "Python 3 (ipykernel)",
      "language": "python",
      "name": "python3"
    },
    "language_info": {
      "codemirror_mode": {
        "name": "ipython",
        "version": 3
      },
      "file_extension": ".py",
      "mimetype": "text/x-python",
      "name": "python",
      "nbconvert_exporter": "python",
      "pygments_lexer": "ipython3",
      "version": "3.10.14"
    },
    "colab": {
      "provenance": [],
      "include_colab_link": true
    }
  },
  "nbformat": 4,
  "nbformat_minor": 5
}